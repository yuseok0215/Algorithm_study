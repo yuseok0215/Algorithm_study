{
 "cells": [
  {
   "cell_type": "markdown",
   "source": [
    "# Q.16 연구소"
   ],
   "metadata": {
    "collapsed": false
   }
  },
  {
   "cell_type": "markdown",
   "source": [
    "##### 크기가 N x M인 연구소는 빈칸(0), 벽(1), 바이러스(2)으로 이루어져 있는데 벽 3개를 새로 세워 얻을 수 있는 안전 영역(바이러스가 없는, 벽으로 둘러싸인 공간의 합) 크기의 최대값을 구해라\n",
    "##### https://www.acmicpc.net/problem/14502"
   ],
   "metadata": {
    "collapsed": false
   }
  },
  {
   "cell_type": "markdown",
   "source": [
    "##### <답안1>\n",
    "#####"
   ],
   "metadata": {
    "collapsed": false
   }
  },
  {
   "cell_type": "code",
   "execution_count": null,
   "outputs": [],
   "source": [
    "from itertools import combinations\n",
    "from collections import deque\n",
    "from copy import deepcopy\n",
    "\n",
    "# 지도의 크기\n",
    "n, m = map(int, input().split())\n",
    "\n",
    "# 연구실 정보 저장\n",
    "lab = []\n",
    "for _ in range(n):\n",
    "    lab.append(list(map(int, input().split())))\n",
    "\n",
    "# 빈 공간의 좌표를 모두 저장\n",
    "empty = []\n",
    "for i in range(n):\n",
    "    for j in range(m):\n",
    "        if lab[i][j] == 0:\n",
    "            empty.append((i,j))\n",
    "\n",
    "# 가능한 울타리 조합을 모두 계산\n",
    "total_empty_combi = list(combinations(empty, 3))\n",
    "\n",
    "# 상하좌우 이동용 좌표\n",
    "dx = [-1, 1, 0, 0]\n",
    "dy = [0, 0, -1, 1]\n",
    "\n",
    "# BFS를 사용해 바이러스 확산시킨 뒤, 남은 안전 영역을 계산\n",
    "def bfs():\n",
    "\n",
    "    # 울타리가 설치된 지도를 깊은 복사\n",
    "    lab_copy = deepcopy(lab)\n",
    "\n",
    "    for x in range(n):\n",
    "        for y in range(m):\n",
    "\n",
    "            # 바이러스 확산용 큐\n",
    "            q = deque()\n",
    "\n",
    "            # 현재 위치에 바이러스가 있다면\n",
    "            if (lab_copy[x][y] == 2):\n",
    "\n",
    "                # 현재 위치를 큐에 추가\n",
    "                q.append((x, y))\n",
    "                while(q):\n",
    "\n",
    "                    # 현재 위치를 큐에서 추출\n",
    "                    now = q.popleft()\n",
    "\n",
    "                    # 상하좌우의 빈 공간에 바이러스를 학산\n",
    "                    for i in range(4):\n",
    "                        new_x = now[0] + dx[i]\n",
    "                        new_y = now[1] + dy[i]\n",
    "\n",
    "                        # 이웃 영역이 지도 내에 존재하고, 빈 공간인지 확인\n",
    "                        if (0 <= new_x and new_x < n and 0 <= new_y and new_y < m and lab_copy[new_x][new_y] == 0):\n",
    "                            # 주변 위치에 바이러스를 확산\n",
    "                            lab_copy[new_x][new_y] = 2\n",
    "\n",
    "                            # 이웃 공간을 큐에 추가\n",
    "                            q.append((new_x, new_y))\n",
    "\n",
    "    return safe_area(lab_copy)\n",
    "\n",
    "# 남은 안전 영역을 계산\n",
    "def safe_area(lab_copy):\n",
    "\n",
    "    count = 0\n",
    "    for i in range(n):\n",
    "        for j in range(m):\n",
    "            if (lab_copy[i][j] == 0):\n",
    "                count += 1\n",
    "\n",
    "    return count\n",
    "\n",
    "def solution():\n",
    "\n",
    "    # 울타리 설치 전 원본\n",
    "    global lab\n",
    "\n",
    "    # 울타리 조합 별 안전 영역의 개수 저장\n",
    "    result = -1\n",
    "\n",
    "    # 울타리를 세운 뒤, BFS를 사용해 바이러스를 확산시키고, 남은 안전 영역을 계산\n",
    "    for empty_combi in total_empty_combi:\n",
    "\n",
    "        # 울타리 설치\n",
    "        for x, y in empty_combi:\n",
    "            lab[x][y] = 1\n",
    "\n",
    "        # BFS를 사용해 바이러스 확산시킨 뒤, 남은 안전 영역을 계산하고, 최대값과 비교\n",
    "        result = max(result, bfs())\n",
    "\n",
    "        # 울타리 제거\n",
    "        for x, y in empty_combi:\n",
    "            lab[x][y] = 0\n",
    "\n",
    "    return result\n",
    "\n",
    "print(solution())"
   ],
   "metadata": {
    "collapsed": false
   }
  },
  {
   "cell_type": "markdown",
   "source": [
    "##### 답안2(시간초과)"
   ],
   "metadata": {
    "collapsed": false
   }
  },
  {
   "cell_type": "code",
   "execution_count": null,
   "outputs": [],
   "source": [
    "n, m = map(int, input().split())\n",
    "temp = [[0] * m for _ in range(n)] # 벽을 설치한 뒤의 맵 리스트\n",
    "graph = [list(map(int, input().split())) for _ in range(n)] # 초기 맵 리스트\n",
    "\n",
    "result = 0\n",
    "\n",
    "# 4가지 이동 방향에 대한 리스트\n",
    "dx = [-1, 0, 1, 0]\n",
    "dy = [0, 1, 0, -1]\n",
    "\n",
    "# 깊이 우선 탐색을 이용해 각 바이러스가 사방으로 퍼지도록 하기\n",
    "def virus(x, y):\n",
    "    for i in range(4):\n",
    "        nx = x + dx[i]\n",
    "        ny = y + dy[i]\n",
    "        # 상,하,좌,우 중에서 바이러스가 퍼질 수 있는 경우\n",
    "        if nx >= 0 and nx < n and ny >= 0 and ny < m:\n",
    "            if temp[nx][ny] == 0:\n",
    "                # 해당 위치에 바이러스를 배치하고, 다시 재귀적으로 수행\n",
    "                temp[nx][ny] = 2\n",
    "                virus(nx, ny)\n",
    "\n",
    "# 현재 맵에서 안전 영역의 크기 계산하는 메서드\n",
    "def get_score():\n",
    "    score = 0\n",
    "    for i in range(n):\n",
    "        for j in range(m):\n",
    "            if temp[i][j] == 0:\n",
    "                score += 1\n",
    "    return score\n",
    "\n",
    "# 깊이 우선 탐색을 이용해 울타리를 설치하면서, 매번 안전 영역의 크기 계산\n",
    "def dfs(count):\n",
    "    global result\n",
    "    # 울타리가 3개 설치된 경우\n",
    "    if count == 3:\n",
    "        for i in range(n):\n",
    "            for j in range(m):\n",
    "                temp[i][j] = graph[i][j]\n",
    "        # 각 바이러스의 위치에서 전파 진행\n",
    "        for i in range(n):\n",
    "            for j in range(m):\n",
    "                if temp[i][j] == 2:\n",
    "                    virus(i, j)\n",
    "        # 안전 영역의 최댓값 계산\n",
    "        result = max(result, get_score())\n",
    "        return\n",
    "    # 빈 공간에 울타리 설치\n",
    "    for i in range(n):\n",
    "        for j in range(m):\n",
    "            if graph[i][j] == 0:\n",
    "                graph[i][j] = 1\n",
    "                count += 1\n",
    "                dfs(count)\n",
    "                graph[i][j] = 0\n",
    "                count -= 1\n",
    "\n",
    "dfs(0)\n",
    "print(result)"
   ],
   "metadata": {
    "collapsed": false,
    "pycharm": {
     "is_executing": true
    }
   }
  }
 ],
 "metadata": {
  "kernelspec": {
   "display_name": "Python 3",
   "language": "python",
   "name": "python3"
  },
  "language_info": {
   "codemirror_mode": {
    "name": "ipython",
    "version": 2
   },
   "file_extension": ".py",
   "mimetype": "text/x-python",
   "name": "python",
   "nbconvert_exporter": "python",
   "pygments_lexer": "ipython2",
   "version": "2.7.6"
  }
 },
 "nbformat": 4,
 "nbformat_minor": 0
}
