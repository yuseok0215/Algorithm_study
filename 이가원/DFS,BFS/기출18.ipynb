{
 "cells": [
  {
   "cell_type": "markdown",
   "source": [
    "# Q.18 괄호 변환"
   ],
   "metadata": {
    "collapsed": false
   }
  },
  {
   "cell_type": "markdown",
   "source": [
    "##### 균형잡힌 괄호 문자열 : (와 )의 개수가 같은 경우\n",
    "##### 올바른 괄호 문자열 : (())() 개수 같고 짝의 방향이 맞는 경우\n",
    "##### https://school.programmers.co.kr/learn/courses/30/lessons/60058"
   ],
   "metadata": {
    "collapsed": false
   }
  },
  {
   "cell_type": "markdown",
   "source": [
    "##### <내 풀이>"
   ],
   "metadata": {
    "collapsed": false
   }
  },
  {
   "cell_type": "code",
   "execution_count": 12,
   "outputs": [],
   "source": [
    "# 균형잡힌 괄호 문자열의 인덱스 반환하는 함수\n",
    "def balance(w):\n",
    "    cnt = 0\n",
    "    for i in range(len(w)):\n",
    "        if w[i] == '(':\n",
    "            cnt += 1\n",
    "        else :\n",
    "            cnt -= 1\n",
    "        if cnt == 0:\n",
    "            index = int(i)\n",
    "            return index\n",
    "\n",
    "# 올바른 문자열인지 검사\n",
    "def correct(u):\n",
    "    cnt = 0\n",
    "    for i in range(len(u)):\n",
    "        if u[i] == '(':\n",
    "            cnt += 1\n",
    "        else :\n",
    "            cnt -= 1\n",
    "        if cnt < 0 :\n",
    "            return False\n",
    "    if cnt == 0:\n",
    "        return True\n",
    "\n",
    "def solution(p):\n",
    "    answer = ''\n",
    "    # 만약 p가 빈문자열이면 빈 문자열 출력\n",
    "    if len(p) == 0:\n",
    "        answer = p\n",
    "        return answer\n",
    "    # u, v 나누기\n",
    "    index = balance(p)\n",
    "    u = p[:index+1]\n",
    "    v = p[index+1:]\n",
    "    # 만약 u가 올바른 문자열이라면\n",
    "    if correct(u) == True:\n",
    "        # v에 대해 1단계부터 다시 실행\n",
    "        v = solution(v)\n",
    "        # 실행 결과를 u에 이어 붙이기\n",
    "        answer = u + v\n",
    "    # u가 올바른 문자열이 아니라면\n",
    "    else:\n",
    "        # v를 1단계부터 다시 실행\n",
    "        v = solution(v)\n",
    "        answer = '(' + v + ')'\n",
    "        # u의 첫 번째와 마지막 문자 제거 후 나머지 문자열의 괄호방향 뒤집어서 뒤에 붙이기\n",
    "        u = u[1:len(u)-1]\n",
    "        new = ''\n",
    "        for i in range(len(u)):\n",
    "            if u[i] == ')':\n",
    "                new = new + '('\n",
    "            else:\n",
    "                new = new + ')'\n",
    "        answer = answer + new\n",
    "    return answer"
   ],
   "metadata": {
    "collapsed": false
   }
  },
  {
   "cell_type": "markdown",
   "source": [
    "##### <답안>"
   ],
   "metadata": {
    "collapsed": false
   }
  },
  {
   "cell_type": "code",
   "execution_count": null,
   "outputs": [],
   "source": [
    "# \"균형잡힌 괄호 문자열\"의 인덱스 반환\n",
    "def balanced_index(p):\n",
    "    count = 0 # 왼쪽 괄호의 개수\n",
    "    for i in range(len(p)):\n",
    "        if p[i] == '(':\n",
    "            count += 1\n",
    "        else:\n",
    "            count -= 1\n",
    "        if count == 0:\n",
    "            return i\n",
    "\n",
    "# \"올바른 괄호 문자열\"인지 판단\n",
    "def check_proper(p):\n",
    "    count = 0 # 왼쪽 괄호의 개수\n",
    "    for i in p:\n",
    "        if i == '(':\n",
    "            count += 1\n",
    "        else:\n",
    "            if count == 0: # 쌍이 맞지 않는 경우에 False 반환\n",
    "                return False\n",
    "            count -= 1\n",
    "    return True # 쌍이 맞는 경우에 True 반환\n",
    "\n",
    "def solution(p):\n",
    "    answer = ''\n",
    "    if p == '':\n",
    "        return answer\n",
    "    index = balanced_index(p)\n",
    "    u = p[:index + 1]\n",
    "    v = p[index + 1:]\n",
    "    # \"올바른 괄호 문자열\"이면, v에 대해 함수를 수행한 결과를 붙여 반환\n",
    "    if check_proper(u):\n",
    "        answer = u + solution(v)\n",
    "    # \"올바른 괄호 문자열\"이 아니라면 아래의 과정을 수행\n",
    "    else:\n",
    "        answer = '('\n",
    "        answer += solution(v)\n",
    "        answer += ')'\n",
    "        u = list(u[1:-1]) # 첫 번째와 마지막 문자를 제거\n",
    "        for i in range(len(u)):\n",
    "            if u[i] == '(':\n",
    "                u[i] = ')'\n",
    "            else:\n",
    "                u[i] = '('\n",
    "        answer += \"\".join(u)\n",
    "    return answer"
   ],
   "metadata": {
    "collapsed": false
   }
  },
  {
   "cell_type": "code",
   "execution_count": 11,
   "outputs": [
    {
     "data": {
      "text/plain": "'(()())()'"
     },
     "execution_count": 11,
     "metadata": {},
     "output_type": "execute_result"
    }
   ],
   "source": [
    "p = '(()())()'\n",
    "solution(p)"
   ],
   "metadata": {
    "collapsed": false
   }
  }
 ],
 "metadata": {
  "kernelspec": {
   "display_name": "Python 3",
   "language": "python",
   "name": "python3"
  },
  "language_info": {
   "codemirror_mode": {
    "name": "ipython",
    "version": 2
   },
   "file_extension": ".py",
   "mimetype": "text/x-python",
   "name": "python",
   "nbconvert_exporter": "python",
   "pygments_lexer": "ipython2",
   "version": "2.7.6"
  }
 },
 "nbformat": 4,
 "nbformat_minor": 0
}
