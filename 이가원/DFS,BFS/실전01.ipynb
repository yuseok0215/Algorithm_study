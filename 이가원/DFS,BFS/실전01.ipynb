{
 "cells": [
  {
   "cell_type": "markdown",
   "source": [
    "# Q1. 음료수 얼려 먹기"
   ],
   "metadata": {
    "collapsed": false
   }
  },
  {
   "cell_type": "markdown",
   "source": [
    "##### N x M 크기의 얼음 틀에 구멍은 0, 칸막이 부분은 1로 표시(연속된 구멍은 서로 연결되어 있는 것으로 간주)\n",
    "##### 얼음 틀의 모양이 주어졌을 때 생성되는 총 아이스크림의 개수를 구해라"
   ],
   "metadata": {
    "collapsed": false
   }
  },
  {
   "cell_type": "markdown",
   "source": [
    "##### <아이디어 - DFS>\n",
    "##### 1. 특정한 지점의 상,하,좌,우 살펴본 뒤 주변 지점 중 값이 0이면서 아직 방문하지 않은 지점이 있다면 해당 지점 방문\n",
    "##### 2. 방문한 지점에서 다시 상,하,좌,우를 살펴보면서 방문 반복하면 연결된 모든 지점을 방문할 수 있다.\n",
    "##### 3. 1~2번의 과정을 모든 노드에 반복하며 방문하지 않은 지점의 수를 센다."
   ],
   "metadata": {
    "collapsed": false
   }
  },
  {
   "cell_type": "code",
   "execution_count": 1,
   "outputs": [],
   "source": [
    "# N, M을 공백으로 구분하여 입력받기\n",
    "n, m = map(int, input().split())\n",
    "\n",
    "# 2차원 리스트의 맵 정보 입력받기\n",
    "data = []\n",
    "for _ in range(N):\n",
    "    data.append(list(map(int,input().split())))\n",
    "\n",
    "# DFS로 특정한 노드를 방문한 뒤에 연결된 모든 노드들도 방문\n",
    "def dfs(x,y):\n",
    "    # 주어진 범위를 벗어나는 경우에는 즉시 종료\n",
    "    if x <= -1 or x >= n or y <= -1 or y >= m:\n",
    "        return False\n",
    "    # 현재 노드를 아직 방문하지 않았다면\n",
    "    if data[x][y] == 0:\n",
    "        # 해당 노드 방문 처리\n",
    "        data[x][y] = 1\n",
    "        # 상, 하, 좌, 우의 위치도 모두 재귀적으로 호출\n",
    "        dfs(x-1, y)\n",
    "        dfs(x, y-1)\n",
    "        dfs(x+1, y)\n",
    "        dfs(x, y+1)\n",
    "        return True\n",
    "    return False\n",
    "\n",
    "# 모든 노드(위치)에 대하여 음료수 채우기\n",
    "result = 0\n",
    "for i in range(n):\n",
    "    for j in range(m):\n",
    "        # 현재 위치에서 DFS 수행\n",
    "        if dfs(i, j) == True:\n",
    "            result += 1\n",
    "\n",
    "print(result) # 정답 출력"
   ],
   "metadata": {
    "collapsed": false
   }
  }
 ],
 "metadata": {
  "kernelspec": {
   "display_name": "Python 3",
   "language": "python",
   "name": "python3"
  },
  "language_info": {
   "codemirror_mode": {
    "name": "ipython",
    "version": 2
   },
   "file_extension": ".py",
   "mimetype": "text/x-python",
   "name": "python",
   "nbconvert_exporter": "python",
   "pygments_lexer": "ipython2",
   "version": "2.7.6"
  }
 },
 "nbformat": 4,
 "nbformat_minor": 0
}
