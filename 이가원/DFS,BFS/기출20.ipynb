{
 "cells": [
  {
   "cell_type": "markdown",
   "source": [
    "# Q.20 감시 피하기"
   ],
   "metadata": {
    "collapsed": false
   }
  },
  {
   "cell_type": "markdown",
   "source": [
    "##### N x N 크기의 복도에 선생님(T), 학생(S), 장애물(O), 빈칸(X)이 존재한다. 각 선생님들은 자신의 위치에서 상, 하, 좌, 우 4가지 방향을 감시하는데, 아무리 멀리 있더라도 장애물로 막히기 전까지의 학생들은 모두 볼 수 있다.\n",
    "##### 복도의 정보가 주어졌을 때, 추가로 3개의 장애물을 설치하여 모든 학생들을 감시로 부터 피할 수 있으면 'YES', 그렇지 않다면 'NO'를 출력해라"
   ],
   "metadata": {
    "collapsed": false
   }
  },
  {
   "cell_type": "code",
   "execution_count": null,
   "outputs": [],
   "source": [
    "from itertools import combinations\n",
    "\n",
    "n = int(input()) # 복도의 크기\n",
    "board = [] # 복도 정보\n",
    "teachers = [] # 모든 선생님 위치 정보\n",
    "space = [] # 모든 빈 공간 위치 정보\n",
    "\n",
    "for i in range(n):\n",
    "    board.append(list(map(int, input().split())))\n",
    "    for j in range(n):\n",
    "        # 선생님이 존재하는 위치 저장\n",
    "        if board[i][j] == 'T':\n",
    "            teachers.append((i, j))\n",
    "        # 장애물을 설치할 수 있는 (빈 공간) 위치 저장\n",
    "        if board[i][j] == 'X':\n",
    "            space.append((i, j))\n",
    "\n",
    "# 특정 방향으로 감시를 진행 (학생 발견: True, 학생 미발견: False)\n",
    "def watch(x, y, direction):\n",
    "    # 좌측 방향\n",
    "    if direction == 0:\n",
    "        while y >= 0: # 좌측으로 인덱스가 0이 될때까지 이동하다가 s만나면 True, 장애물 만나면 False\n",
    "            if board[x][y] == 'S':\n",
    "                return True\n",
    "            if board[x][y] == 'O':\n",
    "                return False\n",
    "            y -= 1\n",
    "    #우측 방향\n",
    "    if direction == 1:\n",
    "        while y < n: # 우측으로 인덱스가 n이 되기 전까지 이동\n",
    "            if board[x][y] == 'S':\n",
    "                return True\n",
    "            if board[x][y] == 'O':\n",
    "                return False\n",
    "            y += 1\n",
    "    # 아래 방향\n",
    "    if direction == 2:\n",
    "        while x >= 0: # 아래로 인덱스가 0이 되기 전까지 이동\n",
    "            if board[x][y] == 'S':\n",
    "                return True\n",
    "            if board[x][y] == 'O':\n",
    "                return False\n",
    "            x -= 1\n",
    "    # 위 방향\n",
    "    if direction == 3:\n",
    "        while x < n: # 위로 인덱스가 0이 되기 전까지의 이동\n",
    "            if board[x][y] == 'S':\n",
    "                return True\n",
    "            if board[x][y] == 'O':\n",
    "                return False\n",
    "            x += 1\n",
    "\n",
    "    return False\n",
    "\n",
    "# 장애물 설치 이후에, 한 명이라도 학생이 감지되는지 검사\n",
    "def process():\n",
    "    for x, y in teachers:\n",
    "        # 4가지 방향으로 학생을 감지할 수 있는지 확인\n",
    "        for i in range(4):\n",
    "            if watch(x, y, i):\n",
    "                return True\n",
    "\n",
    "    return False\n",
    "\n",
    "find = False\n",
    "\n",
    "# 빈 공간에서 3개를 뽑는 모든 조합을 확인\n",
    "for data in combinations(space, 3):\n",
    "    for x, y in data:\n",
    "        board[x][y] = 'O'\n",
    "    # 학생이 한 명도 감지되지 않는 경우\n",
    "    if not process():\n",
    "        find = True\n",
    "        break\n",
    "    # 설치된 장애물 다시 없애기\n",
    "    for x, y in data:\n",
    "        board[x][y] = 'X'\n",
    "\n",
    "if find:\n",
    "    print('YES')\n",
    "else:\n",
    "    print('NO')"
   ],
   "metadata": {
    "collapsed": false,
    "pycharm": {
     "is_executing": true
    }
   }
  }
 ],
 "metadata": {
  "kernelspec": {
   "display_name": "Python 3",
   "language": "python",
   "name": "python3"
  },
  "language_info": {
   "codemirror_mode": {
    "name": "ipython",
    "version": 2
   },
   "file_extension": ".py",
   "mimetype": "text/x-python",
   "name": "python",
   "nbconvert_exporter": "python",
   "pygments_lexer": "ipython2",
   "version": "2.7.6"
  }
 },
 "nbformat": 4,
 "nbformat_minor": 0
}
