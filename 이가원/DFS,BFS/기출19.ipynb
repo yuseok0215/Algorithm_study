{
 "cells": [
  {
   "cell_type": "markdown",
   "source": [
    "# Q.19 연산자 끼워 넣기"
   ],
   "metadata": {
    "collapsed": false
   }
  },
  {
   "cell_type": "markdown",
   "source": [
    "##### N개의 수로 이루어진 수열 A1, ..., AN(1<=Ai<=100)과 수와 수 사이에 끼워넣을 수 있는 N-1개의 연산자(+, -, x, ÷)가 주어진다.\n",
    "##### 수와 수 사이에 연산자를 하나씩 넣어 수식을 만들 때 결과값의 최솟값과 최대값을 구해라(주어진 수의 순서는 바꿀 수 없고 수식은 왼쪽부터 계산된다, 첫 줄에는 최댓값, 둘째 줄에는 최솟값 출력)"
   ],
   "metadata": {
    "collapsed": false
   }
  },
  {
   "cell_type": "markdown",
   "source": [
    "##### <내 풀이>"
   ],
   "metadata": {
    "collapsed": false
   }
  },
  {
   "cell_type": "code",
   "execution_count": null,
   "outputs": [],
   "source": [
    "from itertools import permutations\n",
    "\n",
    "# n 입력\n",
    "n = int(input())\n",
    "# 피연산자 리스트\n",
    "numbers = list(map(int, input().split()))\n",
    "# 연산자 개수(+, -, x, ÷)\n",
    "operator_num = list(map(int, input().split()))\n",
    "\n",
    "# 연산자 리스트\n",
    "operators = []\n",
    "for i in range(len(operator_num)):\n",
    "    if (i == 0):\n",
    "        for j in range(operator_num[i]):\n",
    "            operators.append('+')\n",
    "    elif (i == 1):\n",
    "        for j in range(operator_num[i]):\n",
    "            operators.append('-')\n",
    "    elif (i == 2):\n",
    "        for j in range(operator_num[i]):\n",
    "            operators.append('x')\n",
    "    else:\n",
    "        for j in range(operator_num[i]):\n",
    "            operators.append('÷')\n",
    "\n",
    "# 연산자 순열 조합\n",
    "operators_list = permutations(operators, n-1)\n",
    "\n",
    "# 최솟값과 최댓값 초기화\n",
    "min_value = int(1e9)\n",
    "max_value = -int(1e9)\n",
    "\n",
    "# 연산자 순열 조합에 따라 연산 진행\n",
    "for operator in operators_list:\n",
    "    temp = numbers[0]\n",
    "    for i in range(1, n):\n",
    "        if (operator[i-1] == '+'):\n",
    "            temp += numbers[i]\n",
    "        elif (operator[i-1] == '-'):\n",
    "            temp -= numbers[i]\n",
    "        elif (operator[i-1] == 'x'):\n",
    "            temp *= numbers[i]\n",
    "        else:\n",
    "            temp = int(temp/numbers[i])\n",
    "\n",
    "    min_value = min(min_value, temp)\n",
    "    max_value = max(max_value, temp)\n",
    "\n",
    "print(max_value)\n",
    "print(min_value)"
   ],
   "metadata": {
    "collapsed": false,
    "pycharm": {
     "is_executing": true
    }
   }
  },
  {
   "cell_type": "markdown",
   "source": [
    "##### <답안>"
   ],
   "metadata": {
    "collapsed": false
   }
  },
  {
   "cell_type": "code",
   "execution_count": null,
   "outputs": [],
   "source": [
    "n = int(input())\n",
    "# 연산을 수행하고자 하는 수 리스트\n",
    "data = list(map(int, input().split()))\n",
    "# 더하기, 빼기, 곱하기, 나누기 연산자 개수\n",
    "add, sub, mul, div = map(int, input().split())\n",
    "\n",
    "# 최솟값과 최댓값 초기화\n",
    "min_value = 1e9\n",
    "max_value = -1e9\n",
    "\n",
    "# 깊이 우선 탐색(DFS) 메서드\n",
    "def dfs(i, now):\n",
    "    \"\"\"\n",
    "    i : array의 index(1번째부터 시작)\n",
    "    now : 연산 수행한 실시간 결과값\n",
    "    \"\"\"\n",
    "    global min_value, max_value, add, sub, mul, div\n",
    "    # 모든 연산자를 다 사용한 경우, 최솟값과 최댓값 업데이트\n",
    "    if i == n:\n",
    "        min_value = min(min_value, now)\n",
    "        max_value = max(max_value, now)\n",
    "    else:\n",
    "        # 각 연산자에 대하여 재귀적으로 수행\n",
    "        if add > 0:\n",
    "            add -= 1\n",
    "            dfs(i + 1, now + data[i])\n",
    "            add += 1 # 다른 경우의 수도 탐색해야 하므로 add 연산 횟수 원상복구\n",
    "        if sub > 0:\n",
    "            sub -= 1\n",
    "            dfs(i+1, now - data[i])\n",
    "            sub == 1\n",
    "        if mul > 0 :\n",
    "            mul -= 1\n",
    "            dfs(i + 1, now * data[i])\n",
    "            mul += 1\n",
    "        if div > 0:\n",
    "            div -= 1\n",
    "            dfs(i + 1, int(now / data[i])) # 나눌 때는 나머지를 제거\n",
    "            div += 1\n",
    "\n",
    "# DFS 메서드 호출\n",
    "dfs(1, data[0])\n",
    "\n",
    "# 최댓값과 최솟값 차례대로 출력\n",
    "print(max_value)\n",
    "print(min_value)"
   ],
   "metadata": {
    "collapsed": false
   }
  },
  {
   "cell_type": "code",
   "execution_count": 27,
   "outputs": [
    {
     "name": "stdout",
     "output_type": "stream",
     "text": [
      "dfs 2, 3 + 4\n",
      "dfs 3, 7 * 5\n",
      "dfs 4, 35 * 6\n",
      "min : 210, max : 210\n",
      "dfs 2, 3 * 4\n",
      "dfs 3, 12 + 5\n",
      "dfs 4, 17 * 6\n",
      "min : 102, max : 210\n",
      "dfs 3, 12 * 5\n",
      "dfs 4, 60 + 6\n",
      "min : 66, max : 210\n",
      "210\n",
      "66\n"
     ]
    }
   ],
   "source": [
    "# 실행 과정\n",
    "n = 6\n",
    "# 연산을 수행하고자 하는 수 리스트\n",
    "data = [1, 2, 3, 4, 5, 6]\n",
    "# 더하기, 빼기, 곱하기, 나누기 연산자 개수\n",
    "add, sub, mul, div = 2, 1, 1, 1\n",
    "\n",
    "n = 4\n",
    "# 연산을 수행하고자 하는 수 리스트\n",
    "data = [3, 4, 5, 6]\n",
    "# 더하기, 빼기, 곱하기, 나누기 연산자 개수\n",
    "add, sub, mul, div = 1, 0, 2, 0\n",
    "\n",
    "\n",
    "# 최솟값과 최댓값 초기화\n",
    "min_value = 1e9\n",
    "max_value = -1e9\n",
    "\n",
    "# 깊이 우선 탐색(DFS) 메서드\n",
    "def dfs(i, now):\n",
    "    \"\"\"\n",
    "    i : array의 index(1번째부터 시작)\n",
    "    now : 연산 수행한 실시간 결과값\n",
    "    \"\"\"\n",
    "    global min_value, max_value, add, sub, mul, div\n",
    "    # 모든 연산자를 다 사용한 경우, 최솟값과 최댓값 업데이트\n",
    "    if i == n:\n",
    "        min_value = min(min_value, now)\n",
    "        max_value = max(max_value, now)\n",
    "        print(('min : {a}, max : {b}').format(a = min_value, b = max_value))\n",
    "    else:\n",
    "        # 각 연산자에 대하여 재귀적으로 수행\n",
    "        if add > 0:\n",
    "            add -= 1\n",
    "            a = i+1\n",
    "            print(('dfs {a}, {b} + {c}').format(a = a, b = now, c = data[i]))\n",
    "            dfs(i + 1, now + data[i])\n",
    "            add += 1 # 다른 경우의 수도 탐색해야 하므로 add 연산 횟수 원상 복구\n",
    "        if sub > 0:\n",
    "            sub -= 1\n",
    "            a = i+1\n",
    "            print(('dfs {a}, {b} - {c}').format(a = a, b = now, c = data[i]))\n",
    "            dfs(i+1, now - data[i])\n",
    "            sub += 1\n",
    "        if mul > 0 :\n",
    "            mul -= 1\n",
    "            a = i+1\n",
    "            print(('dfs {a}, {b} * {c}').format(a = a, b = now, c = data[i]))\n",
    "            dfs(i + 1, now * data[i])\n",
    "            mul += 1\n",
    "        if div > 0:\n",
    "            div -= 1\n",
    "            a = i+1\n",
    "            print(('dfs {a}, {b} / {c}').format(a = a, b = now, c = data[i]))\n",
    "            dfs(i + 1, int(now / data[i])) # 나눌 때는 나머지를 제거\n",
    "            div += 1\n",
    "\n",
    "# DFS 메서드 호출\n",
    "dfs(1, data[0])\n",
    "\n",
    "# 최댓값과 최솟값 차례대로 출력\n",
    "print(max_value)\n",
    "print(min_value)"
   ],
   "metadata": {
    "collapsed": false
   }
  }
 ],
 "metadata": {
  "kernelspec": {
   "display_name": "Python 3",
   "language": "python",
   "name": "python3"
  },
  "language_info": {
   "codemirror_mode": {
    "name": "ipython",
    "version": 2
   },
   "file_extension": ".py",
   "mimetype": "text/x-python",
   "name": "python",
   "nbconvert_exporter": "python",
   "pygments_lexer": "ipython2",
   "version": "2.7.6"
  }
 },
 "nbformat": 4,
 "nbformat_minor": 0
}
