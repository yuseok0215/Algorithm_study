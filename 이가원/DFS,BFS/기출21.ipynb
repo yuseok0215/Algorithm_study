{
 "cells": [
  {
   "cell_type": "markdown",
   "source": [
    "# 인구 이동"
   ],
   "metadata": {
    "collapsed": false
   }
  },
  {
   "cell_type": "markdown",
   "source": [
    "##### https://www.acmicpc.net/problem/16234"
   ],
   "metadata": {
    "collapsed": false
   }
  },
  {
   "cell_type": "code",
   "execution_count": null,
   "outputs": [],
   "source": [
    "# n=3, l=5, r=10\n",
    "#                               인구이동1             인구이동2\n",
    "# 10 15 20      *10 : *15 : *20         20 | 20 | 20        20 | 20 | 20\n",
    "#               ..   ㅡ    ㅡ            ㅡ   ㅡ   ㅡ         ㅡ   ㅡ   ㅡ\n",
    "# 20 30 25  ->  *20 : *30 : *25   ->   20 | 20 | *20   ->   20 | 20 | 16\n",
    "                ㅡ    ..    ㅡ            ㅡ   ㅡ   ..        ㅡ   ㅡ   ㅡ\n",
    "# 40 22 10      40 | *22 |  10         40 | *20 : *10       40 | 16 | 16\n",
    "\n",
    "#                       (10+15+20+20+30+25+22)//7  ,    (20+20+10)//3"
   ],
   "metadata": {
    "collapsed": false
   }
  },
  {
   "cell_type": "code",
   "execution_count": null,
   "outputs": [],
   "source": [
    "from collections import deque\n",
    "\n",
    "# 땅의 크기(N), L, R 값을 입력받기\n",
    "n, l, r = map(int, input().split())\n",
    "\n",
    "# 전체 나라의 정보(N x N)를 입력 받기\n",
    "graph = []\n",
    "for _ in range(n):\n",
    "    graph.append(list(map(int, input().split())))\n",
    "\n",
    "dx = [-1, 0, 1, 0]\n",
    "dy = [0, -1, 0, 1]\n",
    "\n",
    "# 특정 위치에서 출발하여 모든 연합을 체크한 뒤에 데이터 갱신\n",
    "def process(x, y, index):\n",
    "    # (x, y)의 위치와 연합될 국가의 위치 정보를 담는 리스트\n",
    "    united = []\n",
    "    united.append((x, y))\n",
    "    # 너비 우선 탐색 (BFS)을 위한 큐 라이브러리 사용\n",
    "    q = deque()\n",
    "    q.append((x, y))\n",
    "    union[x][y] = index # 현재 연합의 번호 할당 (union에서 값이 같으면 연합국가)\n",
    "    summary = graph[x][y] # 현재 연합 국가들의 전체 인구 수\n",
    "    count = 1 # 현재 연합의 국가 수\n",
    "    # 큐가 빌 때까지 반복(BFS)\n",
    "    while q:\n",
    "        x, y = q.popleft()\n",
    "        # 현재 위치에서 4가지 방향을 확인하며\n",
    "        for i in range(4):\n",
    "            nx = x + dx[i]\n",
    "            ny = y + dy[i]\n",
    "            # 존재하는 좌표인지 확인 & 방문하지 않은 좌표인지 확인\n",
    "            if 0 <= nx < n and 0 <= ny < n and union[nx][ny] == -1:\n",
    "                # 옆에 있는 나라와 인구 차이가 L명 이상, R명 이하라면\n",
    "                if l <= abs(graph[nx][ny] - graph[x][y]) <= r:\n",
    "                    q.append((nx, ny))\n",
    "                    # 연합에 추가하기\n",
    "                    union[nx][ny] = index\n",
    "                    summary += graph[nx][ny] # 연합국가의 인구를 더해준다\n",
    "                    count += 1\n",
    "                    united.append((nx, ny))\n",
    "    # 연합 국가끼리 인구를 분배\n",
    "    for i, j in united:\n",
    "        graph[i][j] = summary // count\n",
    "\n",
    "total_count = 0\n",
    "\n",
    "# 더 이상 인구 이동을 할 수 없을 때까지 반복\n",
    "while True:\n",
    "    union = [[-1] * n for _ in range(n)]\n",
    "    index = 0\n",
    "    for i in range(n):\n",
    "        for j in range(n):\n",
    "            if union[i][j] == -1: # 해당 나라가 아직 처리되지 않았다면\n",
    "                process(i, j, index)\n",
    "                index += 1\n",
    "    # 모든 인구 이동이 끝난 경우\n",
    "    if index == n * n:\n",
    "        break\n",
    "    total_count += 1\n",
    "\n",
    "# 인구 이동 횟수 출력\n",
    "print(total_count)"
   ],
   "metadata": {
    "collapsed": false
   }
  },
  {
   "cell_type": "markdown",
   "source": [
    "##### 예시(이해용)"
   ],
   "metadata": {
    "collapsed": false
   }
  },
  {
   "cell_type": "code",
   "execution_count": 1,
   "outputs": [
    {
     "name": "stdout",
     "output_type": "stream",
     "text": [
      "--연합된 국가 번호--\n",
      "[0, 0, 0]\n",
      "[0, 0, 0]\n",
      "[1, 0, 2]\n",
      "--인구이동 후--\n",
      "[20, 20, 20]\n",
      "[20, 20, 20]\n",
      "[40, 20, 10]\n",
      "--연합된 국가 번호--\n",
      "[0, 1, 2]\n",
      "[3, 4, 5]\n",
      "[6, 5, 5]\n",
      "--인구이동 후--\n",
      "[20, 20, 20]\n",
      "[20, 20, 16]\n",
      "[40, 16, 16]\n",
      "--연합된 국가 번호--\n",
      "[0, 1, 2]\n",
      "[3, 4, 5]\n",
      "[6, 7, 8]\n",
      "--인구이동 후--\n",
      "[20, 20, 20]\n",
      "[20, 20, 16]\n",
      "[40, 16, 16]\n",
      "2\n"
     ]
    }
   ],
   "source": [
    "from collections import deque\n",
    "\n",
    "n=3\n",
    "l=5\n",
    "r=10\n",
    "graph = [[10, 15, 20], [20, 30, 25], [40, 22, 10]]\n",
    "\n",
    "dx = [-1, 0, 1, 0]\n",
    "dy = [0, -1, 0, 1]\n",
    "\n",
    "# 특정 위치에서 출발하여 모든 연합을 체크한 뒤에 데이터 갱신\n",
    "def process(x, y, index):\n",
    "    # (x, y)의 위치와 연합될 국가의 위치 정보를 담는 리스트\n",
    "    united = []\n",
    "    united.append((x, y))\n",
    "    # 너비 우선 탐색 (BFS)을 위한 큐 라이브러리 사용\n",
    "    q = deque()\n",
    "    q.append((x, y))\n",
    "    union[x][y] = index # 현재 연합의 번호 할당 (union에서 값이 같으면 연합국가)\n",
    "    summary = graph[x][y] # 현재 연합 국가들의 전체 인구 수\n",
    "    count = 1 # 현재 연합의 국가 수\n",
    "    # 큐가 빌 때까지 반복(BFS)\n",
    "    while q:\n",
    "        x, y = q.popleft()\n",
    "        # 현재 위치에서 4가지 방향을 확인하며\n",
    "        for i in range(4):\n",
    "            nx = x + dx[i]\n",
    "            ny = y + dy[i]\n",
    "            # 존재하는 좌표인지 확인 & 방문하지 않은 좌표인지 확인\n",
    "            if 0 <= nx < n and 0 <= ny < n and union[nx][ny] == -1:\n",
    "                # 옆에 있는 나라와 인구 차이가 L명 이상, R명 이하라면\n",
    "                if l <= abs(graph[nx][ny] - graph[x][y]) <= r:\n",
    "                    q.append((nx, ny))\n",
    "                    # 연합에 추가하기\n",
    "                    union[nx][ny] = index\n",
    "                    summary += graph[nx][ny] # 연합국가의 인구를 더해준다\n",
    "                    count += 1\n",
    "                    united.append((nx, ny))\n",
    "    # 연합 국가끼리 인구를 분배\n",
    "    for i, j in united:\n",
    "        graph[i][j] = summary // count\n",
    "\n",
    "total_count = 0\n",
    "\n",
    "# 더 이상 인구 이동을 할 수 없을 때까지 반복\n",
    "while True:\n",
    "    union = [[-1] * n for _ in range(n)]\n",
    "    index = 0\n",
    "    for i in range(n):\n",
    "        for j in range(n):\n",
    "            if union[i][j] == -1: # 해당 나라가 아직 처리되지 않았다면\n",
    "                process(i, j, index)\n",
    "                index += 1\n",
    "    print('--연합된 국가 번호--')\n",
    "    for i in range(n):\n",
    "        print(union[i])\n",
    "    print('--인구이동 후--')\n",
    "    for i in range(n):\n",
    "        print(graph[i])\n",
    "    # 모든 인구 이동이 끝난 경우\n",
    "    if index == n * n:\n",
    "        break\n",
    "    total_count += 1\n",
    "\n",
    "# 인구 이동 횟수 출력\n",
    "print(total_count)"
   ],
   "metadata": {
    "collapsed": false
   }
  }
 ],
 "metadata": {
  "kernelspec": {
   "display_name": "Python 3",
   "language": "python",
   "name": "python3"
  },
  "language_info": {
   "codemirror_mode": {
    "name": "ipython",
    "version": 2
   },
   "file_extension": ".py",
   "mimetype": "text/x-python",
   "name": "python",
   "nbconvert_exporter": "python",
   "pygments_lexer": "ipython2",
   "version": "2.7.6"
  }
 },
 "nbformat": 4,
 "nbformat_minor": 0
}
