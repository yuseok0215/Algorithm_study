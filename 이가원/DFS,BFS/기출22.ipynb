{
 "cells": [
  {
   "cell_type": "markdown",
   "source": [
    "# 블록 이동하기"
   ],
   "metadata": {
    "collapsed": false
   }
  },
  {
   "cell_type": "markdown",
   "source": [
    "https://school.programmers.co.kr/learn/courses/30/lessons/60063"
   ],
   "metadata": {
    "collapsed": false
   }
  },
  {
   "cell_type": "code",
   "execution_count": null,
   "outputs": [],
   "source": [
    "# get_next_pos : 주어진 위치에서 이동 가능한 모든 위치를 반환하는 함수\n",
    "# next_pos : 주어진 위치에서 이동 가능한 모든 위치를 저장\n",
    "# q : (로봇의 위치, 소요 시간)을 저장한 큐\n",
    "# visited : 방문한 로봇의 위치 저장\n",
    "\n",
    "# 로봇의 위치와 소요시간을 큐에 저장하여 while문을 통해 로봇의 처음 위치에서부터 이동 가능한 모든 위치를 탐색한 후 방문여부를 확인하여 로봇의 위치와 소요시간을 갱신한다.\n",
    "# 이를 반복하다가 로봇의 위치가 (n,n)에 도달하면 소요시간 cost를 반환하도록 한다."
   ],
   "metadata": {
    "collapsed": false
   }
  },
  {
   "cell_type": "code",
   "execution_count": null,
   "outputs": [],
   "source": [
    "from collections import deque\n",
    "\n",
    "# 현재 위치에서 이동 가능한 모든 위치 반환하는 함수\n",
    "def get_next_pos(pos, board):\n",
    "    next_pos = [] # 반환 결과 (이동 가능한 위치들)\n",
    "    pos = list(pos) # 현재 위치 정보를 리스트로 변환 (집합 → 리스트)\n",
    "    pos1_x, pos1_y, pos2_x, pos2_y = pos[0][0], pos[0][1], pos[1][0], pos[1][1]\n",
    "    # (상, 하, 좌, 우)로 이동하는 경우에 대해서 처리\n",
    "    dx = [-1, 1, 0, 0]\n",
    "    dy = [0, 0, -1, 1]\n",
    "    for i in range(4):\n",
    "        pos1_next_x, pos1_next_y, pos2_next_x, pos2_next_y = pos1_x + dx[i], pos1_y + dy[i], pos2_x + dx[i], pos2_y + dy[i]\n",
    "        # 이동하고자 하는 두 칸이 모두 비어 있다면\n",
    "        if board[pos1_next_x][pos1_next_y] == 0 and board[pos2_next_x][pos2_next_y] == 0:\n",
    "            next_pos.append({(pos1_next_x, pos1_next_y), (pos2_next_x, pos2_next_y)})\n",
    "    # 현재 로봇이 가로로 놓여 있는 경우\n",
    "    if pos1_x == pos2_x:\n",
    "        for i in [-1, 1]: # 위쪽으로 회전하거나, 아래쪽으로 회전\n",
    "            if board[pos1_x + i][pos1_y] == 0 and board[pos2_x + i][pos2_y] == 0: # 위쪽 혹은 아래쪽 두 칸이 모두 비어 있다면\n",
    "                next_pos.append({(pos1_x, pos1_y), (pos1_x + i, pos1_y)}) # pos1 칸을 기준으로 회전\n",
    "                next_pos.append({(pos2_x, pos2_y), (pos2_x + i, pos2_y)}) # pos2 칸을 기준으로 회전\n",
    "    # 현재 로봇이 세로로 놓여 있는 경우\n",
    "    elif pos1_y == pos2_y:\n",
    "        for i in [-1, 1]: # 왼쪽으로 회전하거나, 오른쪽으로 회전\n",
    "            if board[pos1_x][pos1_y + i] == 0 and board[pos2_x][pos2_y + i] == 0: # 왼쪽 혹은 오른쪽 두 칸이 모두 비어 있다면\n",
    "                next_pos.append({(pos1_x, pos1_y), (pos1_x, pos1_y + i)})\n",
    "                next_pos.append({(pos2_x, pos2_y), (pos2_x, pos2_y + i)})\n",
    "    # 현재 위치에서 이동할 수 있는 위치를 반환\n",
    "    return next_pos\n",
    "\n",
    "def solution(board):\n",
    "    # 맵의 외곽에 벽을 두는 형태로 맵 변형\n",
    "    n = len(board)\n",
    "    new_board = [[1] * (n + 2) for _ in range(n + 2)]\n",
    "    for i in range(n):\n",
    "        for j in range(n):\n",
    "            new_board[i + 1][j + 1] = board[i][j]\n",
    "    # 너비 우선 탐색(BFS) 수행\n",
    "    q = deque()\n",
    "    visited = []\n",
    "    pos = {(1, 1), (1, 2)} # 시작 위치 설정(딕셔너리 사용하면 {(2,1), (1,1)}와 같다)\n",
    "    q.append((pos, 0)) # 큐에 삽입한 뒤에\n",
    "    visited.append(pos) # 방문 처리\n",
    "    # 큐가 빌 때까지 반복\n",
    "    while q:\n",
    "        pos, cost = q.popleft()\n",
    "        # (n, n) 위치에 로봇이 도달했다면, 최단 거리이므로 반환\n",
    "        if (n, n) in pos:\n",
    "            return cost\n",
    "        # 현재 위치에서 이동할 수 있는 위치 확인\n",
    "        for next_pos in get_next_pos(pos, new_board):\n",
    "            # 아직 방문하지 않은 위치라면 큐에 삽입하고 방문 처리\n",
    "            if next_pos not in visited:\n",
    "                q.append((next_pos, cost + 1))\n",
    "                visited.append(next_pos)\n",
    "    return 0"
   ],
   "metadata": {
    "collapsed": false
   }
  },
  {
   "cell_type": "code",
   "execution_count": null,
   "outputs": [],
   "source": [
    "board = [[0, 0, 0, 1, 1],[0, 0, 0, 1, 0],[0, 1, 0, 1, 1],[1, 1, 0, 0, 1],[0, 0, 0, 0, 0]]\n",
    "solution(board)"
   ],
   "metadata": {
    "collapsed": false
   }
  }
 ],
 "metadata": {
  "kernelspec": {
   "display_name": "Python 3",
   "language": "python",
   "name": "python3"
  },
  "language_info": {
   "codemirror_mode": {
    "name": "ipython",
    "version": 2
   },
   "file_extension": ".py",
   "mimetype": "text/x-python",
   "name": "python",
   "nbconvert_exporter": "python",
   "pygments_lexer": "ipython2",
   "version": "2.7.6"
  }
 },
 "nbformat": 4,
 "nbformat_minor": 0
}
