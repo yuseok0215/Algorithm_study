{
 "cells": [
  {
   "cell_type": "markdown",
   "source": [
    "# Q15. 특정 거리의 도시 찾기"
   ],
   "metadata": {
    "collapsed": false
   }
  },
  {
   "cell_type": "markdown",
   "source": [
    "##### 1~N번까지의 도시와 M개의 단방향 도로가 존재한다.( 모든 도로의 거리는 1이다.)\n",
    "##### 도시 X에서 도시 X의 최단거리는 항상 0이라고 가정\n",
    "##### 특정한 도시 X로부터 출발하여 도달할 수 있는 모든 도시 중, 최단 거리가 K인 모든 도시의 번호를 한 줄에 하나씩 오름차순으로 출력해라(조건을 만족하는 도시가 존재하지 않으면 -1 출력)"
   ],
   "metadata": {
    "collapsed": false
   }
  },
  {
   "cell_type": "code",
   "execution_count": 56,
   "outputs": [],
   "source": [
    "from collections import deque\n",
    "# 도시의 개수 N, 도로의 개수 M, 거리 정보 K, 출발 도시의 번호 X 입력받기\n",
    "n, m, k, x = map(int, input().split())\n",
    "\n",
    "# 도시 생성\n",
    "city = [[] for _ in range(n+1)]\n",
    "\n",
    "# 도로 입력 받기\n",
    "for _ in range(m):\n",
    "    a, b = map(int, input().split())\n",
    "    city[a].append(b)"
   ],
   "metadata": {
    "collapsed": false
   }
  },
  {
   "cell_type": "code",
   "execution_count": 57,
   "outputs": [],
   "source": [
    "dist = [0] * (n+1)\n",
    "\n",
    "# 큐 생성\n",
    "queue = deque()\n",
    "\n",
    "# x부터 BFS 탐색 시작\n",
    "def solution(x):\n",
    "    # x를 큐에 삽입\n",
    "    queue.append(x)\n",
    "    while queue:\n",
    "        # 큐에서 원소 추출\n",
    "        no = queue.popleft()\n",
    "        # 추출 도시의 이웃 도시 탐색\n",
    "        for neighbor in city[no]:\n",
    "            # 아직 방문하지 않은 도시라면\n",
    "            if dist[neighbor] == 0:\n",
    "                # 최단 거리 없데이트\n",
    "                # 방문한 도시는 무조건 최단 거리이므로, 방문하지 않은 도시에 대해서만 업데이트\n",
    "                dist[neighbor] = dist[no] + 1\n",
    "                # 큐에 이웃 도시 추가\n",
    "                queue.append(neighbor)\n",
    "    # 최단 거리 리스트에서 1~N개의 도시를 하나씩 확인하며 거리가 k인 도시를 출력\n",
    "    if k in dist:\n",
    "        for i in range(1, len(dist)):\n",
    "            if dist[i] == k:\n",
    "                print(i)\n",
    "    else:\n",
    "        print(-1)"
   ],
   "metadata": {
    "collapsed": false
   }
  },
  {
   "cell_type": "code",
   "execution_count": 52,
   "outputs": [],
   "source": [
    "n = 4\n",
    "m = 4\n",
    "k = 2\n",
    "x = 1\n",
    "\n",
    "city = [[], [2, 3], [3, 4], [], []]"
   ],
   "metadata": {
    "collapsed": false
   }
  },
  {
   "cell_type": "code",
   "execution_count": 58,
   "outputs": [
    {
     "name": "stdout",
     "output_type": "stream",
     "text": [
      "4\n"
     ]
    }
   ],
   "source": [
    "solution(x)"
   ],
   "metadata": {
    "collapsed": false
   }
  }
 ],
 "metadata": {
  "kernelspec": {
   "display_name": "Python 3",
   "language": "python",
   "name": "python3"
  },
  "language_info": {
   "codemirror_mode": {
    "name": "ipython",
    "version": 2
   },
   "file_extension": ".py",
   "mimetype": "text/x-python",
   "name": "python",
   "nbconvert_exporter": "python",
   "pygments_lexer": "ipython2",
   "version": "2.7.6"
  }
 },
 "nbformat": 4,
 "nbformat_minor": 0
}
