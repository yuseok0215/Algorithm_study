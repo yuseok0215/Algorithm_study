{
 "cells": [
  {
   "cell_type": "markdown",
   "source": [
    "### (2-4) 만들 수 없는 금액\n",
    "##### N개의 동전 금액을 입력받고 이를 이용하여 만들 수 없는 양의 정수 금액 중 최솟값 구하기."
   ],
   "metadata": {
    "collapsed": false
   }
  },
  {
   "cell_type": "code",
   "execution_count": null,
   "outputs": [],
   "source": [
    "# 내 풀이\n",
    "# 1부터 1000001까지 하나씩 검사 -> 이 숫자가 coin(가지고 있는 동전)보다 클 경우에만 숫자에 coin을 뺀다. -> 빼다가 0이 되면 다음 숫자로 넘어간다.\n",
    "\n",
    "#N = int(input())\n",
    "# data = list(map(int, input().split()))\n",
    "\n",
    "data = [3, 2, 1, 1, 9]\n",
    "data.sort(reverse=True)\n",
    "\n",
    "for i in range(1, 10000001):\n",
    "    no = i\n",
    "    # 가지고 있는 동전을 큰 동전부터 하나씩 뺀다(뺄 수 있을 경우).\n",
    "    for coin in data:\n",
    "        if no >= coin:\n",
    "            no -= coin\n",
    "            # 이때 가지고 있는 동전으로 뺐을 때 0이 된다면 다음 다음 숫자로 넘어간다.\n",
    "            if no == 0:\n",
    "                break\n",
    "    # 만약 가지고 있는 동전으로 뺐을 때 0이 되는 경우가 없다면 숫자를 출력한다.\n",
    "    if no != 0:\n",
    "        result = i\n",
    "        print(result)\n",
    "        break\n"
   ],
   "metadata": {
    "collapsed": false
   }
  },
  {
   "cell_type": "code",
   "execution_count": null,
   "outputs": [],
   "source": [
    "# 답안\n",
    "# 동전을 화폐 단위 기준으로 정렬한 뒤, 화폐 단위가 작은 동전부터 하나씩 확인하면서 target변수를 업데이트(이때 우리는 target-1까지 만들 수 있다)\n",
    "\n",
    "n = int(input())\n",
    "data = list(map(int, input().split()))\n",
    "# data = [3, 2, 1, 1, 9]\n",
    "data.sort()\n",
    "\n",
    "target =1 # 1을 만들 수 있는가부터 시작\n",
    "for x in data:\n",
    "    # 만들 수 없는 금액을 찾았을 때 반복 종료(target-1까지 만들 수 있으므로 동전이 target보다 작아야됨)\n",
    "    if target < x:\n",
    "        break\n",
    "    target += x # target 업데이트(target-1만큼 만들 수 있었으므로 새로운 동전을 더하면 업데이트된 target-1만큼 만들 수 있다)\n",
    "\n",
    "print(target)"
   ],
   "metadata": {
    "collapsed": false
   }
  }
 ],
 "metadata": {
  "kernelspec": {
   "display_name": "Python 3",
   "language": "python",
   "name": "python3"
  },
  "language_info": {
   "codemirror_mode": {
    "name": "ipython",
    "version": 2
   },
   "file_extension": ".py",
   "mimetype": "text/x-python",
   "name": "python",
   "nbconvert_exporter": "python",
   "pygments_lexer": "ipython2",
   "version": "2.7.6"
  }
 },
 "nbformat": 4,
 "nbformat_minor": 0
}
