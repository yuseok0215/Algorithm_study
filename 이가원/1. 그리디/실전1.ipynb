{
 "cells": [
  {
   "cell_type": "markdown",
   "source": [
    "# 1. 그리디"
   ],
   "metadata": {
    "collapsed": false
   }
  },
  {
   "cell_type": "markdown",
   "source": [
    "### (1-1) 큰 수의 법칙\n",
    "###### 숫자 배열을 받고 그 숫자들을 이용하여 M번 더했을 때 가장 큰 수 만들기(숫자 반복 가능 단, 한 숫자가 연속으로 K번 초과하여 더해질 수 없다.)\n",
    "###### 숫자 배열에서 숫자가 같고 인덱스가 다르면 그 수는 다르게 보고 사용가능"
   ],
   "metadata": {
    "collapsed": false
   }
  },
  {
   "cell_type": "code",
   "execution_count": null,
   "outputs": [],
   "source": [
    "# 답안 1\n",
    "# 가장 큰 수를 K번 연속해서 더한 후 두 번째로 큰 수를 한 번 더하는 것을 반복하는 게 가장 큰 수를 만들 수 있다.\n",
    "\n",
    "# N(자연수의 개수), M, K를 공백으로 구분하여 입력받기\n",
    "N, M, K = map(int, input().split())\n",
    "\n",
    "# N개의 수를 공백으로 구분하여 입력받기\n",
    "data = list(map(int, input().split()))\n",
    "\n",
    "data.sort(reverse=True)  # 입력받은 수를 내림차순 정렬\n",
    "\n",
    "# 가장 큰 수가 더해지는 횟수 계산\n",
    "count = M // (K + 1) * K  # 가장 큰 수와 두 번째로 큰 수의 묶음 개수 * 묶음 속 큰 수의 개수(K)\n",
    "count += M % (K + 1)  # 묶음을 제외한 나머지 개수\n",
    "\n",
    "result = 0\n",
    "result += count * data[0]  # 가장 큰 수 더하기\n",
    "result += (M - count) * data[1]  # 두 번째로 큰 수 더하기\n",
    "\n",
    "print(result)  # 최종 답안 출력"
   ],
   "metadata": {
    "collapsed": false
   }
  },
  {
   "cell_type": "code",
   "execution_count": null,
   "outputs": [],
   "source": [
    "# 답안 2\n",
    "# N, M, K를 공백으로 구분하여 입력받기\n",
    "N, M, K = map(int, input().split())\n",
    "\n",
    "# N개의 수를 공백으로 구분하여 입력받기\n",
    "data = list(map(int, input().split()))\n",
    "\n",
    "data.sort(reverse=True)  # 입력받은 수 정렬\n",
    "result = 0\n",
    "\n",
    "while True:\n",
    "    for _ in range(K):  # 가장 큰 수를 K번 더하기\n",
    "        if M == 0:  # 더하기 전 M이 0이면 반복문 탈출\n",
    "            break\n",
    "        result += data[0]\n",
    "        M -= 1  # 더할 때마다 1씩 빼기\n",
    "    if M == 0:  # M이 0이면 반복문 탈출\n",
    "        break\n",
    "    result += data[1]  # 두 번째로 큰 수를 한 번 더하기\n",
    "    M -= 1  # 더할 때마다 1씩 빼기\n",
    "\n",
    "print(result)"
   ],
   "metadata": {
    "collapsed": false
   }
  }
 ],
 "metadata": {
  "kernelspec": {
   "display_name": "Python 3",
   "language": "python",
   "name": "python3"
  },
  "language_info": {
   "codemirror_mode": {
    "name": "ipython",
    "version": 2
   },
   "file_extension": ".py",
   "mimetype": "text/x-python",
   "name": "python",
   "nbconvert_exporter": "python",
   "pygments_lexer": "ipython2",
   "version": "2.7.6"
  }
 },
 "nbformat": 4,
 "nbformat_minor": 0
}
