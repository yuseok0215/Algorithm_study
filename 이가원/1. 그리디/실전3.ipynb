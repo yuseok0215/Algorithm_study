{
 "cells": [
  {
   "cell_type": "markdown",
   "source": [
    "### (1-3) 1이 될때까지\n",
    "###### N, K를 받아서 N이 1이 될 때까지 K로 나누거나 1을 뺀다. (단, N을 K로 나눌 땐 반드시 N이 K로 나누어 떨어져야한다.)\n",
    "###### 한 번 나누거나 한 번 뺄 때마다 횟수를 세는데 이 과정의 최소 횟수를 구하자."
   ],
   "metadata": {
    "collapsed": false
   }
  },
  {
   "cell_type": "code",
   "execution_count": null,
   "outputs": [],
   "source": [
    "# 내 풀이\n",
    "N, K = map(int, input().split())\n",
    "\n",
    "count = 0\n",
    "while True:\n",
    "    # N이 1이되면 멈춤\n",
    "    if N == 1:\n",
    "        break\n",
    "    # N이 K로 나누어 떨어진다면 K로 나누고 count 증가\n",
    "    if N % K == 0:\n",
    "        N = N / K\n",
    "        count += 1\n",
    "    # 나누어 떨어지지 않는다면 1을 빼고 count 증가\n",
    "    else :\n",
    "        N -= 1\n",
    "        count += 1\n",
    "\n",
    "\n",
    "print(count)"
   ],
   "metadata": {
    "collapsed": false
   }
  },
  {
   "cell_type": "code",
   "execution_count": null,
   "outputs": [],
   "source": [
    "# 내 풀이\n",
    "# 나누어 떨어지는 수를 계산하여 한 번에 빼기\n",
    "N, K = map(int, input().split())\n",
    "\n",
    "result = 0\n",
    "# N이 K로 나누어 떨어지는 수를 계산해야되기 때문에 N이 K보다 큰 경우 실행\n",
    "while N >= K:\n",
    "    # N이 1이 되면 멈추기\n",
    "    if N == 1:\n",
    "        break\n",
    "    # 만약 N이 K로 나누어 떨어진다면 K로 나누고 result 1 증가\n",
    "    if N % K == 0:\n",
    "        N = N / K\n",
    "        result += 1\n",
    "    # 만약 K로 나누어 떨어지지 않으면 N이 K로 떨어질 수 있는 가장 큰 수가 되도록 빼주기, 빼준만큼 result 증가\n",
    "    else:\n",
    "        result += N - N // K * K\n",
    "        N = N // K * K\n",
    "\n",
    "# N이 K보다 작으면 1이 되도록 빼주기, 빼준만큼 result 증가\n",
    "if N < K:\n",
    "    result += N - 1\n",
    "\n",
    "print(result)"
   ],
   "metadata": {
    "collapsed": false
   }
  },
  {
   "cell_type": "code",
   "execution_count": null,
   "outputs": [],
   "source": [
    "# 답안 1\n",
    "n, k = map(int, input().split())\n",
    "\n",
    "result = 0\n",
    "while n >= k:\n",
    "    while n % k != 0:\n",
    "        n -= 1\n",
    "        result += 1\n",
    "    n //= k\n",
    "    result += 1\n",
    "\n",
    "while n > 1:\n",
    "    n -= 1\n",
    "    result += 1\n",
    "\n",
    "print(result)"
   ],
   "metadata": {
    "collapsed": false
   }
  },
  {
   "cell_type": "code",
   "execution_count": null,
   "outputs": [],
   "source": [
    "# 답안 2\n",
    "n, k = map(int, input().split())\n",
    "result = 0\n",
    "\n",
    "while True:\n",
    "    # (N이 K로 나누어떨어지는 수)가 될 때까지 1씩 빼기\n",
    "    target = n // k * k\n",
    "    result += n - target\n",
    "    n = target\n",
    "    # N이 K보다 작을 때 반복문 탈출\n",
    "    if n < k :\n",
    "        break\n",
    "    # K로 나누기\n",
    "    result += 1\n",
    "    n //= k\n",
    "\n",
    "# 마지막으로 남은 수에 대하여 1씩 빼기\n",
    "result += n-1\n",
    "print(result)"
   ],
   "metadata": {
    "collapsed": false
   }
  }
 ],
 "metadata": {
  "kernelspec": {
   "display_name": "Python 3",
   "language": "python",
   "name": "python3"
  },
  "language_info": {
   "codemirror_mode": {
    "name": "ipython",
    "version": 2
   },
   "file_extension": ".py",
   "mimetype": "text/x-python",
   "name": "python",
   "nbconvert_exporter": "python",
   "pygments_lexer": "ipython2",
   "version": "2.7.6"
  }
 },
 "nbformat": 4,
 "nbformat_minor": 0
}
