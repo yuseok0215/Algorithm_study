{
 "cells": [
  {
   "cell_type": "markdown",
   "source": [
    "# 문자열 압축"
   ],
   "metadata": {
    "collapsed": false
   }
  },
  {
   "cell_type": "markdown",
   "source": [
    "##### 문자열을 일정한 단위로 쪼갰을 때 같은 문자가 연속으로 반복하는 경우 반복횟수와 반복된 문자열로 압축하여 표현하는데, 이때 압축하여 표현한 문자열 중 가장 짧은 것의 길이를 return하도록 solution 함수를 완성하기\n",
    "##### 예시) aaabbaccc -> 3a2ba3c (1개씩 쪼갠것)"
   ],
   "metadata": {
    "collapsed": false
   }
  },
  {
   "cell_type": "code",
   "execution_count": null,
   "outputs": [],
   "source": [
    "def solution(s):\n",
    "\n",
    "    # 주어진 문자열의 길이로 최소 압축 길이 초기화\n",
    "    answer = len(s)\n",
    "\n",
    "    # 탐색 단위 수를 1부터 문자열 중간 길이까지 늘려가며 확인\n",
    "    for unit in range(1, (len(s)//2)+1):\n",
    "\n",
    "        # 결과 문자열\n",
    "        result = \"\"\n",
    "\n",
    "        # 첫 탐색 단위\n",
    "        previous = s[0:unit]\n",
    "\n",
    "        # 동일한 탐색 단위의 개수\n",
    "        count = 1\n",
    "\n",
    "        # 탐색 인덱스를 탐색 단위만큼 증가시키며, 이전 탐색 단위와 비교\n",
    "        for idx in range(unit, len(s), unit):\n",
    "\n",
    "            # 현재 탐색 단위를 슬라이싱\n",
    "            now = s[idx:idx+unit]\n",
    "\n",
    "            # 현재 탐색 단위가 이전 탐색 단위와 같다면\n",
    "            if now == previous:\n",
    "                count += 1\n",
    "            # 현재 탐색 단위가 이전 탐색 단위와 다르다면\n",
    "            else:\n",
    "                if count >= 2:\n",
    "                    result += str(count) + previous\n",
    "                else:\n",
    "                    result += previous\n",
    "                previous = now\n",
    "                count = 1\n",
    "\n",
    "        # 남아있는 문자열에 대해 처리\n",
    "        if count >= 2:\n",
    "            result += str(count) + previous\n",
    "        else:\n",
    "            result += previous\n",
    "\n",
    "        # 탐색 단위별로 압축 문자열의 길이를 비교해, 최소 압축 문자열의 길이를 저장\n",
    "        answer = min(answer, len(result))\n",
    "\n",
    "    return answer"
   ],
   "metadata": {
    "collapsed": false,
    "pycharm": {
     "is_executing": true
    }
   }
  },
  {
   "cell_type": "code",
   "execution_count": 28,
   "outputs": [],
   "source": [
    "def solutions(s):\n",
    "    answer = len(s)\n",
    "    # 1개 단위(step)부터 압축 단위를 늘려가며 확인\n",
    "    for step in range(1, len(s)//2 + 1):\n",
    "        compressed = ''\n",
    "        prev = s[0:step] # 앞에서부터 step만큼의 문자열 추출\n",
    "        count = 1\n",
    "        # 단위(step) 크기만큼 증가시키며 이전 문자열과 비교\n",
    "        for j in range(step, len(s), step):\n",
    "            # 이전 상태와 동일하다면 압축 횟수(count) 증가\n",
    "            if prev == s[j:j+step]:\n",
    "                count += 1\n",
    "            # 다른 문자열이 나왔다면(더이상 압축하지 못하는 경우라면)\n",
    "            else:\n",
    "                compressed += str(count) + prev if count >= 2 else prev\n",
    "                prev = s[j:j + step] # 다시 상태 초기화\n",
    "                count = 1\n",
    "        # 남아 있는 문자열에 대해서 처리\n",
    "        compressed += str(count) + prev if count >= 2 else prev\n",
    "        # 만들어지는 압축 문자열이 가장 짧은 것이 정답\n",
    "        answer = min(answer, len(compressed))\n",
    "    return answer"
   ],
   "metadata": {
    "collapsed": false
   }
  }
 ],
 "metadata": {
  "kernelspec": {
   "display_name": "Python 3",
   "language": "python",
   "name": "python3"
  },
  "language_info": {
   "codemirror_mode": {
    "name": "ipython",
    "version": 2
   },
   "file_extension": ".py",
   "mimetype": "text/x-python",
   "name": "python",
   "nbconvert_exporter": "python",
   "pygments_lexer": "ipython2",
   "version": "2.7.6"
  }
 },
 "nbformat": 4,
 "nbformat_minor": 0
}
