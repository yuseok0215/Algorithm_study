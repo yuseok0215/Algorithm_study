{
 "cells": [
  {
   "cell_type": "markdown",
   "source": [
    "# 문자열 압축"
   ],
   "metadata": {
    "collapsed": false
   }
  },
  {
   "cell_type": "code",
   "execution_count": null,
   "outputs": [],
   "source": [
    "def solutions(s):\n",
    "    answer = len(s)\n",
    "    # 1개 단위(step)부터 압축 단위를 늘려가며 확인\n",
    "    for step in range(1, len(s)//2 + 1):\n",
    "        cmpressed = ''\n",
    "        prev = s[0:step] # 앞에서부터 step만큼의 문자열 추출\n",
    "        count = 1\n",
    "        # 단위(step) 크기만큼 증가시키며 이전 문자열과 비교\n",
    "        for j in range(step, len(s), step):\n",
    "            # 이전 상태와 동일하다면 압축 횟수(count) 증가\n",
    "            if prev == s[j:j+step]:\n",
    "                count += 1\n",
    "            # 다른 문자열이 나왔다면(더이상 압축하지 못하는 경우라면)\n",
    "            else:\n",
    "                compressed += str(count) + prev if count >= 2 else prev\n",
    "                prev = s[j:j + step] # 다시 상태 초기화\n",
    "                count = 1\n",
    "            # 남아 있는 문자열에 대해서 처리\n",
    "            compressed += str(count) + prev if count >= 2 else prev\n",
    "            # 만들어지는 압축 문자열이 가장 짧은 것이 정답\n",
    "            answer = min(answer, len(compressed))\n",
    "        return answer"
   ],
   "metadata": {
    "collapsed": false
   }
  }
 ],
 "metadata": {
  "kernelspec": {
   "display_name": "Python 3",
   "language": "python",
   "name": "python3"
  },
  "language_info": {
   "codemirror_mode": {
    "name": "ipython",
    "version": 2
   },
   "file_extension": ".py",
   "mimetype": "text/x-python",
   "name": "python",
   "nbconvert_exporter": "python",
   "pygments_lexer": "ipython2",
   "version": "2.7.6"
  }
 },
 "nbformat": 4,
 "nbformat_minor": 0
}
