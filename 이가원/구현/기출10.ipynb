{
 "cells": [
  {
   "cell_type": "markdown",
   "source": [
    "# Q10.자물쇠와 열쇠"
   ],
   "metadata": {
    "collapsed": false
   }
  },
  {
   "cell_type": "markdown",
   "source": [
    "##### N x N 크기의 자물쇠와 M x M 크기의 열쇠가 있다. 자물쇠와 열쇠는 홈과 돌기로 이루어져있는데 자물쇠의 모든 홈을 열쇠의 돌기가 채워야 자물쇠를 열 수 있다(이때 돌기 끼리는 만나면 안된다.)\n",
    "##### 열쇠와 자물쇠가 2차원 배열로 주어질 때 열쇠로 자물쇠를 열 수 있으면 true, 열 수 없으면 false를 return하는 solution 함수를 완성시켜라."
   ],
   "metadata": {
    "collapsed": false
   }
  },
  {
   "cell_type": "markdown",
   "source": [
    "##### <아이디어>\n",
    "##### 완전 탐색을 이용해 열쇠를 이동/회전시켜서 죄물쇠에 끼워보는 작업을 전부 시도\n",
    "##### 자물쇠 리스트의 크기를 3배 이상으로 변경(0으로 된 자물쇠 크기로 테두리 만들기) -> 열쇠배열을 왼쪽 위부터 한칸씩 이동하여 확인 -> 자물쇠리스트에 열쇠 리스트 값을 더한 결과에서 자물쇠부분의 모든 값이 1인지 확인"
   ],
   "metadata": {
    "collapsed": false
   }
  },
  {
   "cell_type": "code",
   "execution_count": 12,
   "outputs": [
    {
     "name": "stdout",
     "output_type": "stream",
     "text": [
      "[[9, 5, 1], [10, 6, 2], [11, 7, 3], [12, 8, 4]]\n"
     ]
    }
   ],
   "source": [
    "# 행:3, 열:4\n",
    "# [0][0] -> [0][2]\n",
    "# [1][2] -> [2][1]\n",
    "# [2][1] -> [1][0]\n",
    "# [i][j] -> [j][3-i-1]\n",
    "\n",
    "# 2차원 리스트 오른쪽으로 90도 회전\n",
    "def rotate_a_matrix_by_90_degree(a):\n",
    "    row = len(a) # 행 길이 계산\n",
    "    col = len(a[0]) # 열 길이 계산\n",
    "    result = [[0]*row for _ in range(col)] # 결과 리스트\n",
    "    for i in range(row):\n",
    "        for j in range(col):\n",
    "            # 오른쪽 회전이므로 첫 행이 마지막 열이 된다\n",
    "            result[j][row-i-1] = a[i][j]\n",
    "    return result\n",
    "\n",
    "# 사용예시\n",
    "a = [\n",
    "    [1, 2, 3, 4],\n",
    "    [5, 6, 7, 8],\n",
    "    [9, 10, 11, 12]\n",
    "    ]\n",
    "\n",
    "print(rotate_a_matrix_by_90_degree(a))"
   ],
   "metadata": {
    "collapsed": false
   }
  },
  {
   "cell_type": "code",
   "execution_count": null,
   "outputs": [],
   "source": [
    "# 자물쇠의 중간 부분이 모두 1인지 확인\n",
    "def check(new_lock):\n",
    "    lock_length = len(new_lock) // 3\n",
    "    for i in range(lock_length, lock_length * 2):\n",
    "        for j in range(lock_length, lock_length * 2):\n",
    "            if new_lock[i][j] != 1:\n",
    "                return False\n",
    "        return True"
   ],
   "metadata": {
    "collapsed": false
   }
  },
  {
   "cell_type": "code",
   "execution_count": null,
   "outputs": [],
   "source": [
    "def solution(key, lock):\n",
    "    n = len(lock)\n",
    "    m = len(key)\n",
    "    # 자물쇠의 크기를 기존의 3배로 변환\n",
    "    new_lock = [[0 * (n*3) for _ in range(n*3)]]\n",
    "    # 새로운 자물쇠의 중앙 부분에 기존의 자물쇠 넣기\n",
    "    for i in range(n):\n",
    "        for j in range(n):\n",
    "            new_lock[i+n][j+n] = lock[i][j]\n",
    "\n",
    "    # 4가지 방향에 대해서 확인\n",
    "    for rotation in range(4):\n",
    "        key = rotate_a_matrix_by_90_degree(key) # 열쇠 확인\n",
    "        for x in range(n*2):\n",
    "            for y in range(n*2):\n",
    "                # 자물쇠에 열쇠를 끼워 넣기\n",
    "                for i in range(m):\n",
    "                    for j in range(m):\n",
    "                        new_lock[x+i][y+j] += key[i][j]\n",
    "                # 새로운 자물쇠에 열쇠가 정확히 들어맞는지 검사\n",
    "                if check(new_lock) == True :\n",
    "                    return True\n",
    "                # 자물쇠에서 열쇠를 다시 빼기\n",
    "                for i in range(m):\n",
    "                    for j in range(m):\n",
    "                        new_lock[x+i][y+j] -= key[i][j]\n",
    "    return False"
   ],
   "metadata": {
    "collapsed": false,
    "pycharm": {
     "is_executing": true
    }
   }
  },
  {
   "cell_type": "code",
   "execution_count": null,
   "outputs": [],
   "source": [
    "key = [[0,0,0],[1,0,0],[0,1,1]]\n",
    "lock = [[1,1,1],[1,1,0],[1,0,1]]\n",
    "\n",
    "solution(key, lock)"
   ],
   "metadata": {
    "collapsed": false
   }
  }
 ],
 "metadata": {
  "kernelspec": {
   "display_name": "Python 3",
   "language": "python",
   "name": "python3"
  },
  "language_info": {
   "codemirror_mode": {
    "name": "ipython",
    "version": 2
   },
   "file_extension": ".py",
   "mimetype": "text/x-python",
   "name": "python",
   "nbconvert_exporter": "python",
   "pygments_lexer": "ipython2",
   "version": "2.7.6"
  }
 },
 "nbformat": 4,
 "nbformat_minor": 0
}
