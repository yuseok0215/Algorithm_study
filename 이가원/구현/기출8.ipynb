{
 "cells": [
  {
   "cell_type": "markdown",
   "source": [
    "# 문자열 재정렬"
   ],
   "metadata": {
    "collapsed": false
   }
  },
  {
   "cell_type": "markdown",
   "source": [
    "##### 알파벳 대문자와 숫자(0~1)로만 구성된 문자열이 주어질 때, 모든 알파벳을 오름차순 정렬하여 출력하고 뒤에 모든 숫자를 더한 값을 이어서 출력해라"
   ],
   "metadata": {
    "collapsed": false
   }
  },
  {
   "cell_type": "markdown",
   "source": [
    "##### <내 풀이>"
   ],
   "metadata": {
    "collapsed": false
   }
  },
  {
   "cell_type": "code",
   "execution_count": 28,
   "outputs": [],
   "source": [
    "S = list(input())\n",
    "# K1KA5CB7"
   ],
   "metadata": {
    "collapsed": false
   }
  },
  {
   "cell_type": "code",
   "execution_count": 34,
   "outputs": [
    {
     "name": "stdout",
     "output_type": "stream",
     "text": [
      "ABCKK13\n",
      "time : 0.000997304916381836\n"
     ]
    }
   ],
   "source": [
    "import time\n",
    "start_time = time.time()\n",
    "\n",
    "# 숫자 리스트 생성\n",
    "no =[i for i in range(0,10)]\n",
    "no = list(map(str,no))\n",
    "\n",
    "# S를 오름차순 정렬\n",
    "S.sort()\n",
    "summ = 0\n",
    "\n",
    "# S의 문자 하나씩 확인\n",
    "for i in range(len(S)):\n",
    "    # 만약 0~9의 숫자라면 누적합\n",
    "    if S[i] in no:\n",
    "        summ += int(S[i])\n",
    "    # 숫자가 아니라면 이어서 출력\n",
    "    else:\n",
    "        print(S[i], end='')\n",
    "\n",
    "# 최종합 이어서 출력\n",
    "print(summ)\n",
    "\n",
    "end_time = time.time()\n",
    "print(\"time :\", end_time - start_time)"
   ],
   "metadata": {
    "collapsed": false
   }
  },
  {
   "cell_type": "markdown",
   "source": [
    "##### <답안>"
   ],
   "metadata": {
    "collapsed": false
   }
  },
  {
   "cell_type": "code",
   "execution_count": 25,
   "outputs": [],
   "source": [
    "data = input()"
   ],
   "metadata": {
    "collapsed": false
   }
  },
  {
   "cell_type": "code",
   "execution_count": 39,
   "outputs": [
    {
     "name": "stdout",
     "output_type": "stream",
     "text": [
      "ABCKK13\n",
      "time : 0.001010894775390625\n"
     ]
    }
   ],
   "source": [
    "start_time = time.time()\n",
    "\n",
    "result = []\n",
    "value = 0\n",
    "\n",
    "# 문자를 하나씩 확인하며\n",
    "for x in data:\n",
    "    # 알파벳인 경우 결과 리스트에 삽입\n",
    "    if x.isalpha():\n",
    "        result.append(x)\n",
    "    # 숫자는 따로 더하기\n",
    "    else:\n",
    "        value += int(x)\n",
    "\n",
    "# 알파벳을 오름차순으로 정렬\n",
    "result.sort()\n",
    "\n",
    "#숫자가 하나라도 존재하는 경우 가장 뒤에 삽입\n",
    "if value != 0:\n",
    "    result.append(str(value))\n",
    "\n",
    "# 최종 결과 출력(리스트를 문자열로 변환하여 출력)\n",
    "print(''.join(result))\n",
    "\n",
    "end_time = time.time()\n",
    "print(\"time :\", end_time - start_time)"
   ],
   "metadata": {
    "collapsed": false
   }
  }
 ],
 "metadata": {
  "kernelspec": {
   "display_name": "Python 3",
   "language": "python",
   "name": "python3"
  },
  "language_info": {
   "codemirror_mode": {
    "name": "ipython",
    "version": 2
   },
   "file_extension": ".py",
   "mimetype": "text/x-python",
   "name": "python",
   "nbconvert_exporter": "python",
   "pygments_lexer": "ipython2",
   "version": "2.7.6"
  }
 },
 "nbformat": 4,
 "nbformat_minor": 0
}
