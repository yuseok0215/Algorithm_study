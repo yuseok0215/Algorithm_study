{
 "cells": [
  {
   "cell_type": "markdown",
   "source": [
    "# 게임 개발"
   ],
   "metadata": {
    "collapsed": false
   }
  },
  {
   "cell_type": "markdown",
   "source": [
    "##### N x M 크기의 직사각형의 맵에서 각 칸은 (A, B)로 나타낼 수 있다.(A는 북쪽으로부터 떨어진 칸의 개수, B는 서쪽으로부터 떨어진 칸의 개수)\n",
    "##### 1.현재 위치에서 현재 방향을 기준으로 왼쪽 방향부터 차례대로 갈 곳을 정한다.\n",
    "##### 2.캐릭터의 바로 왼쪽 방향에 아직 가보지 않은 칸이 존재한다면 왼쪽방향으로 회전한 다음 왼쪽으로 한 칸을 전진. 왼쪽 방향에 가보지 않은 칸이 없다면 왼쪽 방향으로 회전만 수행하고 1단계로 돌아간다.\n",
    "##### 3.만약 네 방향 모두 이미 가본 칸이거나 바다로 되어 있는 칸인 경우, 바라보는 방향을 유지한 채로 한 칸 뒤로 가고 1단계로 돌아간다. (이때 뒤쪽 방향이 바다인 칸이라 뒤로 갈 수 없는 경우에는 움직임을 멈춘다)\n",
    "##### 현재 캐릭터의 위치와 방향, 맵의 정보(육지,바다)를 입력받고 위 과정을 반복적으로 했을 때 캐릭터가 방문한 칸의 수를 출력하기"
   ],
   "metadata": {
    "collapsed": false
   }
  },
  {
   "cell_type": "code",
   "execution_count": 10,
   "outputs": [
    {
     "name": "stdout",
     "output_type": "stream",
     "text": [
      "3\n"
     ]
    }
   ],
   "source": [
    "# 내 답안\n",
    "# N, M을 공백으로 구분하여 입력받기\n",
    "n, m = map(int, input().split())\n",
    "\n",
    "# 방문한 위치를 저장하기 위한 맵을 생성하여 0으로 초기화\n",
    "d = [[0] * m for _ in range(n)]\n",
    "# 현재 캐릭터의 위치(A,B)와 방향 입력받기(A : 북쪽으로부터 떨어진 칸의 개수, B : 서쪽으로부터 떨어진 칸의 개수)\n",
    "a,b, direction = map(int, input().split())\n",
    "d[a][b] = 1 # 현재 좌표 방문처리\n",
    "\n",
    "# 전체 맵 정보(0:육지, 1:바다)를 입력받기\n",
    "mapp = []\n",
    "for i in range(n):\n",
    "    mapp.append(list(map(int, input().split())))\n",
    "\n",
    "# 북(0), 동(1), 남(2), 서(3) 방향 정의\n",
    "da = [-1, 0, 1, 0]\n",
    "db = [0, 1, 0, -1]\n",
    "\n",
    "count = 1 # 방문한 칸 수\n",
    "turn_time = 0 # 왼쪽 방향 회전 횟수\n",
    "while True:\n",
    "    direction -= 1\n",
    "    if direction == -1:\n",
    "        direction = 3\n",
    "    # 회전한 이후 정면으로 이동한 위치\n",
    "    na = a + da[direction]\n",
    "    nb = b + db[direction]\n",
    "    # 회전한 이후 정면으로 이동한 위치가 가보지 않았으며 바다가 아니라면 이동\n",
    "    if d[na][nb] == 0 and mapp[na][nb] == 0 :\n",
    "        d[na][nb] = 1\n",
    "        # 현재 위치 갱신\n",
    "        a = na\n",
    "        b = nb\n",
    "        # 방문 칸 수 증가\n",
    "        count += 1\n",
    "        # 왼쪽방향 회전 횟수 리셋\n",
    "        turn_time = 0\n",
    "    # 회전한 이후 정면에 가보지 않은 칸이 없거나 바다인 경우\n",
    "    else:\n",
    "        turn_time += 1 # 왼쪽 방향 회전 횟수 증가\n",
    "    # 네 방향 모두 갈 수 없는 경우\n",
    "    if turn_time == 4:\n",
    "        # 뒤로 이동한 위치\n",
    "        na = a - da[direction]\n",
    "        nb = b - db[direction]\n",
    "        # 뒤로 이동한 위치가 육지라면 이동하기\n",
    "        if mapp[na][nb] == 0:\n",
    "            a = na\n",
    "            b = nb\n",
    "        # 뒤가 바다로 막혀있는 경우 움직임 멈추기\n",
    "        else:\n",
    "            break\n",
    "        turn_time = 0 # 왼쪽 방향 회전 횟수 리셋\n",
    "\n",
    "# 정답 출력\n",
    "print(count)"
   ],
   "metadata": {
    "collapsed": false
   }
  },
  {
   "cell_type": "code",
   "execution_count": null,
   "outputs": [],
   "source": [
    "# N, M을 공백으로 구분하여 입력받기\n",
    "n, m = map(int, input().split())\n",
    "\n",
    "# 방문한 위치를 저장하기 위한 맵을 생성하여 0으로 초기화\n",
    "d = [[0] * m for _ in range(n)]\n",
    "# 현재 캐릭터에 X좌표, Y좌표, 방향을 입력받기\n",
    "x,y, direction = map(int, input().split())\n",
    "\n",
    "# 전체 맵 정보를 입력받기\n",
    "array = []\n",
    "for i in range(n):\n",
    "    array.append(list(map(int, input().split())))\n",
    "\n",
    "# 북, 동, 남, 서 방향 정의\n",
    "dx = [-1, 0, 1, 0]\n",
    "dy = [0, 1, 0, -1]\n",
    "\n",
    "# 왼쪽으로 회전\n",
    "def turn_left():\n",
    "    global direction\n",
    "    direction -= 1\n",
    "    if direction == -1:\n",
    "        direction = 3\n",
    "\n",
    "# 시뮬레이션 시작\n",
    "count = 1\n",
    "turn_time = 0\n",
    "while True:\n",
    "    # 왼쪽으로 회전\n",
    "    turn_left()\n",
    "    nx = x + dx[direction]\n",
    "    ny = y + dy[direction]\n",
    "    # 회전한 이후 정면에 가보지 않은 칸이 존재하는 경우 이동\n",
    "    if d[nx][ny] == 0 and array[nx][ny] == 0:\n",
    "        d[nx][ny] = 1\n",
    "        x = nx\n",
    "        y = ny\n",
    "        count += 1\n",
    "        turn_time = 0\n",
    "        continue\n",
    "    # 회전한 이후 정면에 가보지 않은 칸이 없거나 바다인 경우\n",
    "    else:\n",
    "        turn_time += 1\n",
    "    # 네 방향 모두 갈 수 없는 경우\n",
    "    if turn_time == 4:\n",
    "        nx = x - dx[direction]\n",
    "        ny = y - dy[direction]\n",
    "        # 뒤로 갈 수 있다면 이동하기\n",
    "        if array[nx][ny] == 0:\n",
    "            x = nx\n",
    "            y = ny\n",
    "        # 뒤가 바다로 막혀있는 경우\n",
    "        else:\n",
    "            breakturn_time = 0\n",
    "\n",
    "# 정답 출력\n",
    "print(count)"
   ],
   "metadata": {
    "collapsed": false
   }
  },
  {
   "cell_type": "markdown",
   "source": [],
   "metadata": {
    "collapsed": false
   }
  }
 ],
 "metadata": {
  "kernelspec": {
   "display_name": "Python 3",
   "language": "python",
   "name": "python3"
  },
  "language_info": {
   "codemirror_mode": {
    "name": "ipython",
    "version": 2
   },
   "file_extension": ".py",
   "mimetype": "text/x-python",
   "name": "python",
   "nbconvert_exporter": "python",
   "pygments_lexer": "ipython2",
   "version": "2.7.6"
  }
 },
 "nbformat": 4,
 "nbformat_minor": 0
}
