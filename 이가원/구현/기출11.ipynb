{
 "cells": [
  {
   "cell_type": "markdown",
   "source": [
    "# Q11. 뱀"
   ],
   "metadata": {
    "collapsed": false
   }
  },
  {
   "cell_type": "markdown",
   "source": [
    "##### N x N 정사각 보드 위에서 주어진 사과 위치 정보와 뱀의 이동 경로를 통해 뱀이 이동했을 때 게임이 몇초에 끝나는지 계산하기(벽이나 자기 몸에 부딪히면 게임 끝남)\n",
    "##### 보드 테두리는 벽이고 뱀은 맨 위 좌측에서 오른쪽 방향으로 시작하며 길이는 1이다.\n",
    "##### 사과를 먹을 때마다 길이가 1씩 커진다."
   ],
   "metadata": {
    "collapsed": false
   }
  },
  {
   "cell_type": "code",
   "execution_count": null,
   "outputs": [],
   "source": [
    "n = int(input())\n",
    "k = int(input())\n",
    "graph = [[0] * (n+1) for _ in range(n+1)] # 맵 정보\n",
    "\n",
    "# 맵 정보 (사과가 있는 곳은 1로 표시)\n",
    "for _ in range(k):\n",
    "    a, b = map(int, input().split())\n",
    "    graph[a][b] = 1\n",
    "\n",
    "info = [] # 방향 회전 정보\n",
    "\n",
    "# 방향 회전 정보 입력\n",
    "l = int(input())\n",
    "for _ in range(l):\n",
    "    x, c = map(str, input().split())\n",
    "    info.append((int(x), c))\n",
    "\n",
    "# 처음에는 오른쪽을 보고 있으므로 (동, 남, 서, 북)\n",
    "dx = [0, 1, 0, -1]\n",
    "dy = [1, 0, -1, 0]\n",
    "\n",
    "def turn(direction, c):\n",
    "    if c == 'L':\n",
    "        direction = (direction-1)%4\n",
    "    else:\n",
    "        direction = (direction+1)%4\n",
    "\n",
    "    return direction\n",
    "\n",
    "def simulate():\n",
    "    x, y = 1, 1 # 뱀의 머리 위치\n",
    "    graph[x][y] = 2 # 뱀이 존재하는 위치는 2로 표시\n",
    "    direction = 0 # 처음에는 동쪽을 보고 있음\n",
    "    time = 0 # 시작한 뒤에 지난 '초' 시간\n",
    "    index = 0 # 다음에 회전할 정보\n",
    "    q = [(x, y)] # 뱀이 차지하고 있는 위치 정보\n",
    "    while True:\n",
    "        nx = x + dx[direction]\n",
    "        ny = y + dy[direction]\n",
    "\n",
    "        # 맵 범위 안에 있고, 뱀의 몸통이 없는 위치라면\n",
    "        if 1<=nx and nx<=n and 1<=ny and ny<=n and graph[nx][ny] != 2:\n",
    "\n",
    "            # 사과가 없다면 이동 후에 꼬리 제거\n",
    "            if graph[nx][ny] == 0:\n",
    "                graph[nx][ny] = 2\n",
    "                q.append((nx, ny))\n",
    "                px, py = q.pop(0)\n",
    "                graph[px][py] = 0\n",
    "\n",
    "            # 사과가 있다면 이동 후에 꼬리 그대로 두기\n",
    "            if graph[nx][ny] == 1:\n",
    "                graph[nx][ny] = 2\n",
    "                q.append((nx, ny))\n",
    "\n",
    "        # 벽이나 뱀의 몸통과 부딪혔다면\n",
    "        else:\n",
    "            time += 1\n",
    "            break\n",
    "        x, y = nx, ny # 다음 위치로 머리를 이동\n",
    "        time += 1\n",
    "\n",
    "        # 회전할 시간인 경우 회전\n",
    "        if index < l and time == info[index][0]:\n",
    "            direction = turn(direction, info[index][1])\n",
    "            index += 1\n",
    "\n",
    "    return time\n",
    "\n",
    "print(simulate())"
   ],
   "metadata": {
    "collapsed": false
   }
  }
 ],
 "metadata": {
  "kernelspec": {
   "display_name": "Python 3",
   "language": "python",
   "name": "python3"
  },
  "language_info": {
   "codemirror_mode": {
    "name": "ipython",
    "version": 2
   },
   "file_extension": ".py",
   "mimetype": "text/x-python",
   "name": "python",
   "nbconvert_exporter": "python",
   "pygments_lexer": "ipython2",
   "version": "2.7.6"
  }
 },
 "nbformat": 4,
 "nbformat_minor": 0
}
