{
 "cells": [
  {
   "cell_type": "markdown",
   "source": [
    "# 왕실의 나이트"
   ],
   "metadata": {
    "collapsed": false
   }
  },
  {
   "cell_type": "markdown",
   "source": [
    "##### 나이트는 특정한 위치에서 다음과 같은 두 가지 경우로 이동할 수 있다.\n",
    "##### 1. 수평으로 두 칸 이동한 뒤에 수직으로 한 칸 이동\n",
    "##### 2. 수직으로 두 칸 이동한 뒤에 수평으로 한 칸 이동\n",
    "##### 8x8 좌표 평면 상에서 나이트 위치가 주어졌을 때 나이트가 이동할 수 있는 경우의 수 출력"
   ],
   "metadata": {
    "collapsed": false
   }
  },
  {
   "cell_type": "code",
   "execution_count": 13,
   "outputs": [
    {
     "name": "stdout",
     "output_type": "stream",
     "text": [
      "2\n"
     ]
    }
   ],
   "source": [
    "# 내 답안\n",
    "loc = input()\n",
    "\n",
    "# 나이트가 이동할 수 있는 방향 x,y로 나누어 정의\n",
    "dx = [2, 2, -2, -2, 1, 1, -1, -1]\n",
    "dy = [1, -1, 1, -1, 2, -1, 2, -2]\n",
    "result = 0\n",
    "\n",
    "# 8가지의 방향에 대해 이동 가능 확인\n",
    "for i in range(len(dx)):\n",
    "    if ord(loc[0])+dx[i] <= ord('h') and ord(loc[0])+dx[i] >= ord('a') and int(loc[1])+dy[i]<= 8 and int(loc[1]) + dy[i] >= 1:\n",
    "        # 가능하다면 카운트 증가\n",
    "        result += 1\n",
    "\n",
    "print(result)"
   ],
   "metadata": {
    "collapsed": false
   }
  },
  {
   "cell_type": "code",
   "execution_count": 14,
   "outputs": [
    {
     "name": "stdout",
     "output_type": "stream",
     "text": [
      "2\n"
     ]
    }
   ],
   "source": [
    "# 답안\n",
    "# 현재 나이트의 위치 입력받기\n",
    "input_data = input()\n",
    "row = int(input_data[1])\n",
    "column = int(ord(input_data[0])) - int(ord('a')) + 1\n",
    "\n",
    "# 나이트가 이동할 수 있는 8가지 방향 정의\n",
    "steps = [(-2,1), (-1,-2), (1, -2), (2,-1), (2,1), (1,2), (-1,2), (-2,1)]\n",
    "\n",
    "# 8가지 방향에 대하여 각 위치로 이동이 가능한지 확인\n",
    "result = 0\n",
    "for step in steps:\n",
    "    # 이동하고자 하는 위치 확인\n",
    "    next_row = row + step[0]\n",
    "    next_column = column + step[1]\n",
    "    # 해당 위치로 이동이 가능하다면 카운트 증가\n",
    "    if next_row >= 1 and next_row <= 8 and next_column >= 1 and next_column <= 8:\n",
    "        result += 1\n",
    "\n",
    "print(result)"
   ],
   "metadata": {
    "collapsed": false
   }
  }
 ],
 "metadata": {
  "kernelspec": {
   "display_name": "Python 3",
   "language": "python",
   "name": "python3"
  },
  "language_info": {
   "codemirror_mode": {
    "name": "ipython",
    "version": 2
   },
   "file_extension": ".py",
   "mimetype": "text/x-python",
   "name": "python",
   "nbconvert_exporter": "python",
   "pygments_lexer": "ipython2",
   "version": "2.7.6"
  }
 },
 "nbformat": 4,
 "nbformat_minor": 0
}
