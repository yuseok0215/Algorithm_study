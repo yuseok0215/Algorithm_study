{
 "cells": [
  {
   "cell_type": "markdown",
   "source": [
    "### (2-2) 곱하기 혹은 더하기\n",
    "##### 각 자리가 숫자(0-9)로만 이루어진 문자열 S, 숫자들 사이에 x 또는 + 연산자를 넣어 만들 수 있는 가장 큰 수 구하기\n",
    "##### 단, 모든 연산은 왼쪽부터 순서대로 이루어진다."
   ],
   "metadata": {
    "collapsed": false
   }
  },
  {
   "cell_type": "code",
   "execution_count": null,
   "outputs": [],
   "source": [
    "# 내풀이\n",
    "# int로 입력받기\n",
    "S = list(map(int,list(input())))\n",
    "\n",
    "result = 0\n",
    "# 입력된 문자열 S의 왼쪽부터 숫자 확인\n",
    "for i in S:\n",
    "    # 현재 숫자나 결과값이 0또는 1이면(1이하) 더하기 실행\n",
    "    if i <= 1 or result <=1:\n",
    "        result += i\n",
    "    # 현재 숫자나 결과값이 0 또는 1이 아니면 곱하기 실행\n",
    "    else:\n",
    "        result = result * i\n",
    "\n",
    "print(result)"
   ],
   "metadata": {
    "collapsed": false
   }
  },
  {
   "cell_type": "code",
   "execution_count": null,
   "outputs": [],
   "source": [
    "# 문자열로 입력받기\n",
    "S = input()\n",
    "\n",
    "result = 0\n",
    "for i in range(len(S)):\n",
    "    if int(S[i]) <= 1 or result <= 1:\n",
    "        result += int(S[i])\n",
    "    else:\n",
    "        result = result * int(S[i])\n",
    "\n",
    "print(result)"
   ],
   "metadata": {
    "collapsed": false
   }
  },
  {
   "cell_type": "code",
   "execution_count": null,
   "outputs": [],
   "source": [
    "# 실행과정\n",
    "# int로 입력받기\n",
    "S = list(map(int,list('02984')))\n",
    "\n",
    "result = 0\n",
    "print(result, end='')\n",
    "# 입력된 문자열 S의 왼쪽부터 숫자 확인\n",
    "for i in S:\n",
    "    # 현재 숫자가 0 또는 1이거나 결과값이 0이면 더하기 실행\n",
    "    if i <= 1 or result == 0:\n",
    "        result += i\n",
    "        print(' +',i, end='')\n",
    "    # 현재 숫자나 결과값이 0 또는 1이 아니면 곱하기 실행\n",
    "    else:\n",
    "        result = result * i\n",
    "        print(' x',i, end='')\n",
    "\n",
    "print(' =', result)"
   ],
   "metadata": {
    "collapsed": false
   }
  }
 ],
 "metadata": {
  "kernelspec": {
   "display_name": "Python 3",
   "language": "python",
   "name": "python3"
  },
  "language_info": {
   "codemirror_mode": {
    "name": "ipython",
    "version": 2
   },
   "file_extension": ".py",
   "mimetype": "text/x-python",
   "name": "python",
   "nbconvert_exporter": "python",
   "pygments_lexer": "ipython2",
   "version": "2.7.6"
  }
 },
 "nbformat": 4,
 "nbformat_minor": 0
}
