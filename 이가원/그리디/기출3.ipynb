{
 "cells": [
  {
   "cell_type": "markdown",
   "source": [
    "### (2-3) 문자열 뒤집기\n",
    "##### 0과 1로만 이루어진 문자열 S에서 전체를 뒤집거나 연속된 숫자의 숫자를 잡고 뒤집을 수 있는데\n",
    "##### S의 모든 숫자가 동일하도록 만들기 위한 최소 횟수 구하기"
   ],
   "metadata": {
    "collapsed": false
   }
  },
  {
   "cell_type": "code",
   "execution_count": null,
   "outputs": [],
   "source": [
    "# test case -> 뒤집기 횟수 (숫자가 바뀌는 횟수)\n",
    "# 숫자가 바뀌는 횟수의 1/2을 반올림한 수가 최소 횟수가 된다.\n",
    "# 0001100 ->      1 (2)\n",
    "# 0100100 ->      2 (4)\n",
    "# 0111000100 ->   2 (4)\n",
    "# 100001 ->       1 (2)\n",
    "# 11000010001 ->  2 (4)\n",
    "# 1010001010 ->   4 (7)\n",
    "# 10100011010010->5 (9)\n",
    "# 1000011010100011101001000"
   ],
   "metadata": {
    "collapsed": false
   }
  },
  {
   "cell_type": "code",
   "execution_count": null,
   "outputs": [],
   "source": [
    "# 내 풀이\n",
    "import math\n",
    "S = input()\n",
    "\n",
    "count = 0\n",
    "no = S[0]\n",
    "\n",
    "for i in range(1,len(S)): # 문자열의 두 번째 수부터 비교\n",
    "    # 이전 문자열과 현재 문자열이 다르면 count 증가\n",
    "    if S[i] != no :\n",
    "        count +=1\n",
    "    no = S[i] # 문자열 갱신\n",
    "\n",
    "result = math.ceil(count/2)\n",
    "print(result)"
   ],
   "metadata": {
    "collapsed": false
   }
  },
  {
   "cell_type": "code",
   "execution_count": null,
   "outputs": [],
   "source": [
    "# 답안\n",
    "data = input()\n",
    "count0 = 0 # 전부 0으로 바꾸는 경우\n",
    "count1 = 0 # 전부 1로 바꾸는 경우\n",
    "\n",
    "# 첫 번째 원소에 대해서 처리\n",
    "if data[0] == '1':\n",
    "    count0 += 1\n",
    "else:\n",
    "    count1 += 1\n",
    "\n",
    "# 두 번째 원소부터 모든 원소를 확인하며\n",
    "for i in range(len(data) - 1):\n",
    "    if data[i] != data[i + 1]:\n",
    "        # 다음 수에서 1로 바뀌는 경우\n",
    "        if data[i + 1] == '1':\n",
    "            count0 += 1\n",
    "        # 다음 수에서 0으로 바뀌는 경우\n",
    "        else:\n",
    "            count1 += 1\n",
    "\n",
    "print(min(count0, count1))"
   ],
   "metadata": {
    "collapsed": false
   }
  }
 ],
 "metadata": {
  "kernelspec": {
   "display_name": "Python 3",
   "language": "python",
   "name": "python3"
  },
  "language_info": {
   "codemirror_mode": {
    "name": "ipython",
    "version": 2
   },
   "file_extension": ".py",
   "mimetype": "text/x-python",
   "name": "python",
   "nbconvert_exporter": "python",
   "pygments_lexer": "ipython2",
   "version": "2.7.6"
  }
 },
 "nbformat": 4,
 "nbformat_minor": 0
}
