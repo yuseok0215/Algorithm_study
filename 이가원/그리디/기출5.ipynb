{
 "cells": [
  {
   "cell_type": "markdown",
   "source": [
    "### (2-5) 볼링공 고르기\n",
    "##### 1~N번의 볼링공이 있고 각 볼링공마다 무게가 적혀있다.(이때 같은 무게의 공이 여러개 있을 수 있지만 서로 다른 공으로 간주, M은 )\n",
    "##### 두 사람은 서로 무게가 다른 볼링공을 선택하고자 한다. 이때 경우의 수를 구하라."
   ],
   "metadata": {
    "collapsed": false
   }
  },
  {
   "cell_type": "code",
   "execution_count": null,
   "outputs": [],
   "source": [
    "# 내 답안\n",
    "N, M = map(int, input().split())\n",
    "data = list(map(int, input().split()))\n",
    "\n",
    "result = 0\n",
    "# 1번부터 N-1번까지 확인한다.\n",
    "for i in range(N-1):\n",
    "    # 현재 비교하고자 하는 공보다 뒤에 있는 공들과 차례대로 비교\n",
    "    for j in range(N-i-1):\n",
    "        # print(i, i+j+1) #: 무게 고려 안 했을 때 모든 경우의 수\n",
    "        # 만약 둘의 무게가 다르면 result를 1 더한다.\n",
    "        if data[i] != data[i+j+1]:\n",
    "            result +=1\n",
    "\n",
    "print(result)"
   ],
   "metadata": {
    "collapsed": false
   }
  },
  {
   "cell_type": "code",
   "execution_count": null,
   "outputs": [],
   "source": [
    "# 답안\n",
    "n, m = map(int, input().split())\n",
    "data = list(map(int, input().split()))\n",
    "\n",
    "# 1부터 10까지의 무게를 담을 수 있는 리스트\n",
    "array = [0] * 11\n",
    "for x in data:\n",
    "    # 각 무게에 해당하는 볼링공의 개수 카운트\n",
    "    array[x] += 1\n",
    "    result += array[i] * n # B가 선택하는 경우의 수와 곱하기\n",
    "\n",
    "print(result)"
   ],
   "metadata": {
    "collapsed": false
   }
  }
 ],
 "metadata": {
  "kernelspec": {
   "display_name": "Python 3",
   "language": "python",
   "name": "python3"
  },
  "language_info": {
   "codemirror_mode": {
    "name": "ipython",
    "version": 2
   },
   "file_extension": ".py",
   "mimetype": "text/x-python",
   "name": "python",
   "nbconvert_exporter": "python",
   "pygments_lexer": "ipython2",
   "version": "2.7.6"
  }
 },
 "nbformat": 4,
 "nbformat_minor": 0
}
