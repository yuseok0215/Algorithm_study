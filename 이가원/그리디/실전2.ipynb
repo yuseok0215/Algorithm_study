{
 "cells": [
  {
   "cell_type": "markdown",
   "source": [
    "### (1-2) 숫자 카드 게임\n",
    "###### N행 M열의 숫자를 받아 각 행 중 가장 작은 숫자를 뽑고 그중 가장 큰 값 선택하기"
   ],
   "metadata": {
    "collapsed": false
   }
  },
  {
   "cell_type": "code",
   "execution_count": null,
   "outputs": [],
   "source": [
    "# 내 풀이\n",
    "# N, M를 공백으로 구분하여 입력받기\n",
    "N, M = map(int, input().split())\n",
    "data = []\n",
    "# N행 M열의 데이터를 행단위로 입력받아 행 한줄이 원소가 되도록 리스트에 저장\n",
    "for _ in range(N):\n",
    "    data.append(list(map(int, input().split())))\n",
    "\n",
    "result = 0\n",
    "# 행 별로 최솟값 비교하여 result값 갱신(최대값찾기)\n",
    "for i in range(N):\n",
    "    if result < min(data[i]):\n",
    "        result = min(data[i])\n",
    "\n",
    "print(result)"
   ],
   "metadata": {
    "collapsed": false
   }
  },
  {
   "cell_type": "code",
   "execution_count": null,
   "outputs": [],
   "source": [
    "# 답안 1\n",
    "n, m = map(int, input().split())\n",
    "\n",
    "result = 0\n",
    "# 한 줄씩 입력받아 확인\n",
    "for i in range(n):\n",
    "    data = list(map(int, input().split()))\n",
    "    # 현재 줄에서 가장 작은 수 찾기\n",
    "    min_value = min(data)\n",
    "    # 가장 작은 수들 중에서 가장 큰 수 찾기\n",
    "    result = max(result, min_value)\n",
    "\n",
    "print(result) # 최종 답안 출력"
   ],
   "metadata": {
    "collapsed": false
   }
  },
  {
   "cell_type": "code",
   "execution_count": null,
   "outputs": [],
   "source": [
    "# 답안 2\n",
    "n, m = map(int, input().split())\n",
    "\n",
    "result = 0\n",
    "# 한 줄씩 입력받아 확인\n",
    "for i in range(n):\n",
    "    data = list(map(int, input().split()))\n",
    "    # 현재 줄에서 가장 작은 수 찾기\n",
    "    min_value = 10001\n",
    "    for a in data:\n",
    "        min_value = min(min_value, a)\n",
    "    # 가장 작은 수들 중에서 가장 큰 수 찾기\n",
    "    result = max(result, min_value)\n",
    "\n",
    "print(result) # 최종 답안 출력"
   ],
   "metadata": {
    "collapsed": false
   }
  }
 ],
 "metadata": {
  "kernelspec": {
   "display_name": "Python 3",
   "language": "python",
   "name": "python3"
  },
  "language_info": {
   "codemirror_mode": {
    "name": "ipython",
    "version": 2
   },
   "file_extension": ".py",
   "mimetype": "text/x-python",
   "name": "python",
   "nbconvert_exporter": "python",
   "pygments_lexer": "ipython2",
   "version": "2.7.6"
  }
 },
 "nbformat": 4,
 "nbformat_minor": 0
}
