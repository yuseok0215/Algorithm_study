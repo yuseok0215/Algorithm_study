{
 "cells": [
  {
   "cell_type": "markdown",
   "source": [
    "### (2-1) 모험가 길드\n",
    "##### 모험가 N명, 공포도X인 모험가는 반드시 X명 이상으로 구성한 모험가 그룹에 참여해야한다.\n",
    "##### 최대 몇개의 모험가 그룹을 만들 수 있는지 구하라."
   ],
   "metadata": {
    "collapsed": false
   }
  },
  {
   "cell_type": "code",
   "execution_count": null,
   "outputs": [],
   "source": [
    "# 공포도가 낮은 모험가부터 그룹을 형성\n",
    "N = int(input())\n",
    "data = list(map(int, input().split()))\n",
    "\n",
    "data.sort() # 오름차순 정렬\n",
    "\n",
    "result = 0 # 총 그룹의 수\n",
    "count = 0 # 현재 그룹에 포함된 모험가의 수\n",
    "\n",
    "for member in data: # 공포도가 낮은 모험가부터 하나씩 확인\n",
    "    count += 1 # 현재 그룹에 해당 모험가를 포함\n",
    "    # 현재 그룹에 포함된 모험가의 수가 현재 모험가의 공포도보다 크면 그룹 결성\n",
    "    if count >= member:\n",
    "        result += 1 # 총 그룹의 수 증가\n",
    "        count = 0 # 현재 그룹에 포함된 모험가의 수 초기화\n",
    "\n",
    "print(result)"
   ],
   "metadata": {
    "collapsed": false
   }
  },
  {
   "cell_type": "code",
   "execution_count": null,
   "outputs": [],
   "source": [
    "# 실행과정\n",
    "N = 5\n",
    "# data = [1, 1, 2, 3, 3]\n",
    "data = [2, 3, 1, 2, 2]\n",
    "\n",
    "data.sort()\n",
    "result = 0 # 총 그룹의 수\n",
    "count = 0 # 현재 그룹에 포함된 모험가의 수\n",
    "\n",
    "for member in data: # 공포도가 낮은 모험가부터 하나씩 확인\n",
    "    count += 1 # 현재 그룹에 해당 모험가를 포함\n",
    "    print(member)\n",
    "    # 현재 그룹에 포함된 모험가의 수가 현재 모험가의 공포도보다 같거나 크면 그룹 결성\n",
    "    if count >= member:\n",
    "        result += 1 # 총 그룹의 수 증가\n",
    "        count = 0 # 현재 그룹에 포함된 모험가의 수 초기화\n",
    "        print(' -> Group', result)\n",
    "\n",
    "print('total :', result)"
   ],
   "metadata": {
    "collapsed": false
   }
  }
 ],
 "metadata": {
  "kernelspec": {
   "display_name": "Python 3",
   "language": "python",
   "name": "python3"
  },
  "language_info": {
   "codemirror_mode": {
    "name": "ipython",
    "version": 2
   },
   "file_extension": ".py",
   "mimetype": "text/x-python",
   "name": "python",
   "nbconvert_exporter": "python",
   "pygments_lexer": "ipython2",
   "version": "2.7.6"
  }
 },
 "nbformat": 4,
 "nbformat_minor": 0
}
