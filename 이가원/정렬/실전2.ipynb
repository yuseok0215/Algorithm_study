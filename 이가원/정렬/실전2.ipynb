{
 "cells": [
  {
   "cell_type": "markdown",
   "source": [
    "# 성적이 낮은 순서로 학생 출력"
   ],
   "metadata": {
    "collapsed": false
   }
  },
  {
   "cell_type": "markdown",
   "source": [
    "##### N명의 학생 정보(이름, 성적)가 주어졌을 때 성적이 낮은 순서대로 학생의 이름을 출력하는 프로그램 작성해라"
   ],
   "metadata": {
    "collapsed": false
   }
  },
  {
   "cell_type": "code",
   "execution_count": 9,
   "outputs": [],
   "source": [
    "n = int(input())\n",
    "\n",
    "data = []\n",
    "for _ in range(n):\n",
    "    a, b = input().split()\n",
    "    data.append((a,int(b)))\n",
    "\n",
    "data = sorted(data, key = lambda s: s[1])\n",
    "\n",
    "for student in data:\n",
    "    print(student[0], end = ' ')"
   ],
   "metadata": {
    "collapsed": false
   }
  }
 ],
 "metadata": {
  "kernelspec": {
   "display_name": "Python 3",
   "language": "python",
   "name": "python3"
  },
  "language_info": {
   "codemirror_mode": {
    "name": "ipython",
    "version": 2
   },
   "file_extension": ".py",
   "mimetype": "text/x-python",
   "name": "python",
   "nbconvert_exporter": "python",
   "pygments_lexer": "ipython2",
   "version": "2.7.6"
  }
 },
 "nbformat": 4,
 "nbformat_minor": 0
}
