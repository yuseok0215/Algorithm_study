{
 "cells": [
  {
   "cell_type": "markdown",
   "source": [
    "# 국영수"
   ],
   "metadata": {
    "collapsed": false
   }
  },
  {
   "cell_type": "markdown",
   "source": [
    "##### N명의 이름과 국어, 영어, 수학 점수가 주어질 때 다음의 조건으로 성적을 정렬하는 프로그램을 작성해라.\n",
    "##### 1. 국어 점수가 감소하는 순서로\n",
    "##### 2. 국어 점수가 같으면 영어 점수가 증가하는 순서로\n",
    "##### 3. 국어 점수와 영어 점수가 같으면 수학 점수가 감소하는 순서로\n",
    "##### 4. 모든 점수가 같으면 이름이 사전 순으로 증가하는 순서로 (단, 아스키코드에서 대문자는 소문자보다 작으므로 사전 순으로 앞에 온다.)"
   ],
   "metadata": {
    "collapsed": false
   }
  },
  {
   "cell_type": "markdown",
   "source": [
    "##### 내 풀이"
   ],
   "metadata": {
    "collapsed": false
   }
  },
  {
   "cell_type": "code",
   "execution_count": null,
   "outputs": [],
   "source": [
    "n = int(input())\n",
    "students = [] # 학생 정보를 담을 리스트\n",
    "\n",
    "# 모든 학생 정보 입력받기\n",
    "for _ in range(n):\n",
    "    input_data = list(input().split())\n",
    "    students.append((input_data[0], input_data[1], input_data[2], input_data[3]))\n",
    "\n",
    "students = sorted(students, key = lambda x : (-x[1], x[2], -x[3], x[0]))\n",
    "\n",
    "# 정렬된 학생 정보에서 이름만 출력\n",
    "for student in students:\n",
    "    print(student[0])"
   ],
   "metadata": {
    "collapsed": false
   }
  },
  {
   "cell_type": "markdown",
   "source": [
    "##### 답안"
   ],
   "metadata": {
    "collapsed": false
   }
  },
  {
   "cell_type": "code",
   "execution_count": null,
   "outputs": [],
   "source": [
    "n = int(input())\n",
    "students = [] # 학생 정보를 담을 리스트\n",
    "\n",
    "# 모든 학생 정보를 입력받기\n",
    "for _ in range(n):\n",
    "    students.append(input().split())\n",
    "\n",
    "students.sort(key=lambda x: (-int(x[1]), int(x[2], -int(x[3]), x[0])))\n",
    "\n",
    "# 정렬된 학생 정보에서 이름만 출력\n",
    "for student in students:\n",
    "    print(student[0])"
   ],
   "metadata": {
    "collapsed": false
   }
  }
 ],
 "metadata": {
  "kernelspec": {
   "display_name": "Python 3",
   "language": "python",
   "name": "python3"
  },
  "language_info": {
   "codemirror_mode": {
    "name": "ipython",
    "version": 2
   },
   "file_extension": ".py",
   "mimetype": "text/x-python",
   "name": "python",
   "nbconvert_exporter": "python",
   "pygments_lexer": "ipython2",
   "version": "2.7.6"
  }
 },
 "nbformat": 4,
 "nbformat_minor": 0
}
