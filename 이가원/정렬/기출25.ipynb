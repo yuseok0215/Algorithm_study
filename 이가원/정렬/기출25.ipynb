{
 "cells": [
  {
   "cell_type": "markdown",
   "source": [
    "# 실패율"
   ],
   "metadata": {
    "collapsed": false
   }
  },
  {
   "cell_type": "markdown",
   "source": [
    "https://school.programmers.co.kr/learn/courses/30/lessons/42889"
   ],
   "metadata": {
    "collapsed": false
   }
  },
  {
   "cell_type": "markdown",
   "source": [
    "##### 답안"
   ],
   "metadata": {
    "collapsed": false
   }
  },
  {
   "cell_type": "code",
   "execution_count": 4,
   "outputs": [],
   "source": [
    "def solution(N, stages):\n",
    "    answer = []\n",
    "    length = len(stages)\n",
    "\n",
    "    # 스테이지 번호를 1부터 N까지 증가시키며\n",
    "    for i in range(1, N + 1):\n",
    "        # 해당 스테이지에 머물러 있는 사람의 수 계산\n",
    "        count = stages.count(i)\n",
    "\n",
    "        # 실패율 계산\n",
    "        if length == 0:\n",
    "            fail = 0\n",
    "        else:\n",
    "            fail = count / length\n",
    "\n",
    "        # 리스트에 (스테이지 번호, 실패율) 원소 삽입\n",
    "        answer.append((i, fail))\n",
    "        length -= count\n",
    "\n",
    "    # 실패율을 기준으로 각 스테이지를 내림차순 정렬\n",
    "    answer = sorted(answer, key=lambda t: t[1], reverse=True)\n",
    "\n",
    "    # 정렬된 스테이지 번호 출력\n",
    "    answer = [i[0] for i in answer]\n",
    "    return answer"
   ],
   "metadata": {
    "collapsed": false
   }
  },
  {
   "cell_type": "code",
   "execution_count": 5,
   "outputs": [
    {
     "data": {
      "text/plain": "[2, 1, 3]"
     },
     "execution_count": 5,
     "metadata": {},
     "output_type": "execute_result"
    }
   ],
   "source": [
    "stages = [1, 2, 2, 2]\n",
    "N = 3\n",
    "\n",
    "# 1의 실패율 : 1 / 4\n",
    "# 2의 실패율 : 3 / 3\n",
    "# 3의 실패율 : 0 / 0\n",
    "\n",
    "# 따라서 실패율 계산할 때 if length = 0 : fail = 0 부분이 없으면 분모가 0일 때 오류가 발생한다.\n",
    "\n",
    "solution(N, stages)"
   ],
   "metadata": {
    "collapsed": false
   }
  }
 ],
 "metadata": {
  "kernelspec": {
   "display_name": "Python 3",
   "language": "python",
   "name": "python3"
  },
  "language_info": {
   "codemirror_mode": {
    "name": "ipython",
    "version": 2
   },
   "file_extension": ".py",
   "mimetype": "text/x-python",
   "name": "python",
   "nbconvert_exporter": "python",
   "pygments_lexer": "ipython2",
   "version": "2.7.6"
  }
 },
 "nbformat": 4,
 "nbformat_minor": 0
}
