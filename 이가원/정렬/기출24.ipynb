{
 "cells": [
  {
   "cell_type": "markdown",
   "source": [
    "# 안테나"
   ],
   "metadata": {
    "collapsed": false
   }
  },
  {
   "cell_type": "markdown",
   "source": [
    "##### 일직선상에 위치하는 여러 채의 집 중 한 곳에 안테나를 설치하여 안테나로부터 모든 집까지의 거리의 총합이 최소가 되도록 하는 위치를 출력하는 프로그램을 작성해라"
   ],
   "metadata": {
    "collapsed": false
   }
  },
  {
   "cell_type": "markdown",
   "source": [
    "##### 내 풀이"
   ],
   "metadata": {
    "collapsed": false
   }
  },
  {
   "cell_type": "code",
   "execution_count": null,
   "outputs": [],
   "source": [
    "n = int(input())\n",
    "house = list(map(int, input().split()))\n",
    "\n",
    "pick = set(house)\n",
    "dist = []\n",
    "\n",
    "for i in pick:\n",
    "    d = []\n",
    "    for h in house:\n",
    "        d.append(abs(h-i))\n",
    "    dist.append((i, sum(d)))\n",
    "\n",
    "dist = sorted(dist, key = lambda x : (x[1], x[0]))\n",
    "print(dist[0][0])"
   ],
   "metadata": {
    "collapsed": false,
    "pycharm": {
     "is_executing": true
    }
   }
  },
  {
   "cell_type": "markdown",
   "source": [
    "##### 답안"
   ],
   "metadata": {
    "collapsed": false
   }
  },
  {
   "cell_type": "code",
   "execution_count": null,
   "outputs": [],
   "source": [
    "n = int(input())\n",
    "data = list(map(int, input().split()))\n",
    "data.sort()\n",
    "\n",
    "# 중간값을 출력\n",
    "print(data[(n-1) // 2])"
   ],
   "metadata": {
    "collapsed": false
   }
  }
 ],
 "metadata": {
  "kernelspec": {
   "display_name": "Python 3",
   "language": "python",
   "name": "python3"
  },
  "language_info": {
   "codemirror_mode": {
    "name": "ipython",
    "version": 2
   },
   "file_extension": ".py",
   "mimetype": "text/x-python",
   "name": "python",
   "nbconvert_exporter": "python",
   "pygments_lexer": "ipython2",
   "version": "2.7.6"
  }
 },
 "nbformat": 4,
 "nbformat_minor": 0
}
